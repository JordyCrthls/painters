{
 "cells": [
  {
   "metadata": {
    "ExecuteTime": {
     "end_time": "2024-02-04T12:32:52.041150600Z",
     "start_time": "2024-02-04T12:32:49.935922700Z"
    }
   },
   "cell_type": "code",
   "outputs": [],
   "source": [
    "from tensorflow import keras\n",
    "from tensorflow.keras import layers\n",
    "import numpy as np\n",
    "import cv2\n",
    "from PIL import Image\n",
    "import os\n",
    "import matplotlib.pyplot as plt"
   ],
   "id": "fffea8e4dc886fb4",
   "execution_count": 1
  },
  {
   "cell_type": "code",
   "id": "initial_id",
   "metadata": {
    "collapsed": true,
    "ExecuteTime": {
     "end_time": "2024-02-04T12:32:52.044158Z",
     "start_time": "2024-02-04T12:32:52.041150600Z"
    }
   },
   "outputs": [],
   "source": [
    "# 2 painters simple convnet"
   ],
   "execution_count": 2
  },
  {
   "metadata": {
    "ExecuteTime": {
     "end_time": "2024-02-04T12:32:52.057545400Z",
     "start_time": "2024-02-04T12:32:52.045665700Z"
    }
   },
   "cell_type": "code",
   "outputs": [],
   "source": [
    "def create_simpleconvnet():\n",
    "    data_augmentation = keras.Sequential([\n",
    "        layers.RandomCrop(500, 400),\n",
    "        layers.RandomZoom(0.2),\n",
    "        layers.RandomRotation(0.1)\n",
    "    ])\n",
    "    \n",
    "    inputs = keras.Input(shape=(412, 550, 3))\n",
    "    x = data_augmentation(inputs)\n",
    "    x = layers.Rescaling(1./255)(x)\n",
    "    x = layers.Conv2D(filters=32, kernel_size=3, activation='relu')(x)\n",
    "    x = layers.MaxPool2D(pool_size=2)(x)\n",
    "    x = layers.Conv2D(filters=64, kernel_size=3, activation='relu')(x)\n",
    "    x = layers.MaxPool2D(pool_size=2)(x)\n",
    "    x = layers.Conv2D(filters=128, kernel_size=3, activation='relu')(x)\n",
    "    x = layers.MaxPool2D(pool_size=2)(x)\n",
    "    x = layers.Conv2D(filters=256, kernel_size=3, activation='relu')(x)    \n",
    "    x = layers.MaxPool2D(pool_size=2)(x)\n",
    "    x = layers.Conv2D(filters=512, kernel_size=3, activation='relu')(x)\n",
    "    x = layers.MaxPool2D(pool_size=2)(x)\n",
    "    x = layers.Conv2D(filters=512, kernel_size=3, activation='relu')(x)\n",
    "    x = layers.Flatten()(x)\n",
    "    x = layers.Dropout(0.5)(x)\n",
    "    outputs = layers.Dense(2, activation='softmax')(x)\n",
    "    model = keras.Model(inputs=inputs, outputs=outputs)\n",
    "    \n",
    "    model.compile(loss=\"categorical_crossentropy\",optimizer='adam', metrics=[\"accuracy\"])\n",
    "\n",
    "    model.summary()\n",
    "    \n",
    "    return model"
   ],
   "id": "a3a9517a8875345",
   "execution_count": 3
  },
  {
   "metadata": {
    "ExecuteTime": {
     "end_time": "2024-02-04T12:32:52.321351400Z",
     "start_time": "2024-02-04T12:32:52.055541500Z"
    }
   },
   "cell_type": "code",
   "outputs": [
    {
     "name": "stdout",
     "output_type": "stream",
     "text": [
      "Model: \"model\"\n",
      "_________________________________________________________________\n",
      " Layer (type)                Output Shape              Param #   \n",
      "=================================================================\n",
      " input_1 (InputLayer)        [(None, 412, 550, 3)]     0         \n",
      "                                                                 \n",
      " sequential (Sequential)     (None, 500, 400, 3)       0         \n",
      "                                                                 \n",
      " rescaling (Rescaling)       (None, 500, 400, 3)       0         \n",
      "                                                                 \n",
      " conv2d (Conv2D)             (None, 498, 398, 32)      896       \n",
      "                                                                 \n",
      " max_pooling2d (MaxPooling2  (None, 249, 199, 32)      0         \n",
      " D)                                                              \n",
      "                                                                 \n",
      " conv2d_1 (Conv2D)           (None, 247, 197, 64)      18496     \n",
      "                                                                 \n",
      " max_pooling2d_1 (MaxPoolin  (None, 123, 98, 64)       0         \n",
      " g2D)                                                            \n",
      "                                                                 \n",
      " conv2d_2 (Conv2D)           (None, 121, 96, 128)      73856     \n",
      "                                                                 \n",
      " max_pooling2d_2 (MaxPoolin  (None, 60, 48, 128)       0         \n",
      " g2D)                                                            \n",
      "                                                                 \n",
      " conv2d_3 (Conv2D)           (None, 58, 46, 256)       295168    \n",
      "                                                                 \n",
      " max_pooling2d_3 (MaxPoolin  (None, 29, 23, 256)       0         \n",
      " g2D)                                                            \n",
      "                                                                 \n",
      " conv2d_4 (Conv2D)           (None, 27, 21, 512)       1180160   \n",
      "                                                                 \n",
      " max_pooling2d_4 (MaxPoolin  (None, 13, 10, 512)       0         \n",
      " g2D)                                                            \n",
      "                                                                 \n",
      " conv2d_5 (Conv2D)           (None, 11, 8, 512)        2359808   \n",
      "                                                                 \n",
      " flatten (Flatten)           (None, 45056)             0         \n",
      "                                                                 \n",
      " dropout (Dropout)           (None, 45056)             0         \n",
      "                                                                 \n",
      " dense (Dense)               (None, 2)                 90114     \n",
      "                                                                 \n",
      "=================================================================\n",
      "Total params: 4018498 (15.33 MB)\n",
      "Trainable params: 4018498 (15.33 MB)\n",
      "Non-trainable params: 0 (0.00 Byte)\n",
      "_________________________________________________________________\n"
     ]
    }
   ],
   "source": [
    "model = create_simpleconvnet()"
   ],
   "id": "c61ef4ce41033146",
   "execution_count": 4
  },
  {
   "metadata": {
    "ExecuteTime": {
     "end_time": "2024-02-04T12:32:52.321351400Z",
     "start_time": "2024-02-04T12:32:52.317815Z"
    }
   },
   "cell_type": "code",
   "outputs": [],
   "source": [
    "#mix arrays per n elements\n",
    "\n",
    "def mix(elements1:[], elements2:[], n=5):\n",
    "    objects_set = []\n",
    "    labels_set = []\n",
    "    i = 0\n",
    "    while i < len(elements1) and i < len(elements2):\n",
    "            objects_set.append(np.reshape(elements1[i], (412, 550, 3)))\n",
    "            labels_set.append([1, 0])\n",
    "    \n",
    "            objects_set.append(np.reshape(elements2[i], (412, 550, 3)))\n",
    "            labels_set.append([0, 1])\n",
    "            \n",
    "            i+=1\n",
    "            \n",
    "    return np.array(objects_set), np.array(labels_set)\n",
    "    "
   ],
   "id": "2ab2e31c4109aa47",
   "execution_count": 5
  },
  {
   "metadata": {
    "ExecuteTime": {
     "end_time": "2024-02-04T12:34:43.696114900Z",
     "start_time": "2024-02-04T12:32:52.322383Z"
    }
   },
   "cell_type": "code",
   "outputs": [
    {
     "name": "stdout",
     "output_type": "stream",
     "text": [
      "Epoch 1/25\n",
      "6/6 [==============================] - ETA: 0s - loss: 0.7451 - accuracy: 0.4882INFO:tensorflow:Assets written to: convnet_with_augmentation.tf\\assets\n"
     ]
    },
    {
     "name": "stderr",
     "output_type": "stream",
     "text": [
      "INFO:tensorflow:Assets written to: convnet_with_augmentation.tf\\assets\n"
     ]
    },
    {
     "name": "stdout",
     "output_type": "stream",
     "text": [
      "6/6 [==============================] - 15s 2s/step - loss: 0.7451 - accuracy: 0.4882 - val_loss: 0.6907 - val_accuracy: 0.5100\n",
      "Epoch 2/25\n",
      "6/6 [==============================] - ETA: 0s - loss: 0.6899 - accuracy: 0.5059INFO:tensorflow:Assets written to: convnet_with_augmentation.tf\\assets\n"
     ]
    },
    {
     "name": "stderr",
     "output_type": "stream",
     "text": [
      "INFO:tensorflow:Assets written to: convnet_with_augmentation.tf\\assets\n"
     ]
    },
    {
     "name": "stdout",
     "output_type": "stream",
     "text": [
      "6/6 [==============================] - 14s 2s/step - loss: 0.6899 - accuracy: 0.5059 - val_loss: 0.6840 - val_accuracy: 0.5000\n",
      "Epoch 3/25\n",
      "6/6 [==============================] - ETA: 0s - loss: 0.6793 - accuracy: 0.6353INFO:tensorflow:Assets written to: convnet_with_augmentation.tf\\assets\n"
     ]
    },
    {
     "name": "stderr",
     "output_type": "stream",
     "text": [
      "INFO:tensorflow:Assets written to: convnet_with_augmentation.tf\\assets\n"
     ]
    },
    {
     "name": "stdout",
     "output_type": "stream",
     "text": [
      "6/6 [==============================] - 14s 2s/step - loss: 0.6793 - accuracy: 0.6353 - val_loss: 0.6570 - val_accuracy: 0.6300\n",
      "Epoch 4/25\n",
      "6/6 [==============================] - 13s 2s/step - loss: 0.5923 - accuracy: 0.7235 - val_loss: 0.8498 - val_accuracy: 0.5100\n",
      "Epoch 5/25\n",
      "6/6 [==============================] - 13s 2s/step - loss: 0.6552 - accuracy: 0.6588 - val_loss: 1.4270 - val_accuracy: 0.5050\n",
      "Epoch 6/25\n",
      "6/6 [==============================] - 13s 2s/step - loss: 0.7631 - accuracy: 0.6059 - val_loss: 0.6801 - val_accuracy: 0.5400\n",
      "Epoch 7/25\n",
      "6/6 [==============================] - 13s 2s/step - loss: 0.6732 - accuracy: 0.5765 - val_loss: 0.6733 - val_accuracy: 0.5900\n",
      "Epoch 8/25\n",
      "6/6 [==============================] - 13s 2s/step - loss: 0.6304 - accuracy: 0.7000 - val_loss: 0.6845 - val_accuracy: 0.6000\n"
     ]
    },
    {
     "data": {
      "text/plain": "<Figure size 1200x400 with 2 Axes>",
      "image/png": "[encoded data removed]"
     },
     "metadata": {},
     "output_type": "display_data"
    }
   ],
   "source": [
    "cwd = os.getcwd()\n",
    "dir_train_rubens = \"dataset/validation/rubens\"\n",
    "dir_train_picasso= \"dataset/validation/picasso\"\n",
    "dir_validation_rubens = \"dataset/test/rubens\"\n",
    "dir_validation_picasso= \"dataset/test/picasso\"\n",
    "file_train_rubens = os.listdir(dir_train_rubens)\n",
    "file_validation_rubens = os.listdir(dir_validation_rubens)\n",
    "file_train_picasso = os.listdir(dir_train_picasso)\n",
    "file_validation_picasso = os.listdir(dir_validation_picasso)\n",
    "\n",
    "train_rubens =[Image.open(os.path.join(dir_train_rubens, file)) for file in file_train_rubens]\n",
    "train_picasso =[Image.open(os.path.join(dir_train_picasso, file)) for file in file_train_picasso]\n",
    "validation_rubens = [Image.open(os.path.join(dir_validation_rubens, file)) for file in file_validation_rubens]\n",
    "validation_picasso = [Image.open(os.path.join(dir_validation_picasso, file)) for file in file_validation_picasso]\n",
    "\n",
    "train_set, train_labels = mix(train_rubens, train_picasso)\n",
    "validation_set, validation_labels = mix(validation_rubens, validation_picasso)\n",
    "\n",
    "train_set = train_set.reshape(len(train_set), 412, 550, 3)\n",
    "validation_set = validation_set.reshape(len(validation_set), 412, 550, 3)\n",
    "\n",
    "callbacks = [\n",
    "    keras.callbacks.ModelCheckpoint(filepath=\"convnet_with_augmentation.tf\", save_best_only=True, monitor=\"val_loss\"),\n",
    "    keras.callbacks.EarlyStopping(monitor=\"val_accuracy\", patience=5)\n",
    "]\n",
    "\n",
    "history = model.fit(train_set, train_labels, validation_data=(validation_set, validation_labels), epochs=25, callbacks=callbacks)\n",
    "\n",
    "plt.figure(figsize=(12, 4))\n",
    "\n",
    "plt.subplot(1, 2, 1)\n",
    "plt.plot(history.history['accuracy'])\n",
    "plt.plot(history.history['val_accuracy'])\n",
    "plt.title('Model accuracy')\n",
    "plt.ylabel('Accuracy')\n",
    "plt.xlabel('Epoch')\n",
    "plt.legend(['Train', 'validation'], loc='upper left')\n",
    "\n",
    "# Plot training & validation loss values\n",
    "plt.subplot(1, 2, 2)\n",
    "plt.plot(history.history['loss'])\n",
    "plt.plot(history.history['val_loss'])\n",
    "plt.title('Model loss')\n",
    "plt.ylabel('Loss')\n",
    "plt.xlabel('Epoch')\n",
    "plt.legend(['Train', 'validation'], loc='upper left')\n",
    "\n",
    "plt.show()"
   ],
   "id": "9edf50090838c0cd",
   "execution_count": 6
  },
  {
   "metadata": {
    "ExecuteTime": {
     "end_time": "2024-02-04T12:34:45.004290700Z",
     "start_time": "2024-02-04T12:34:43.693108600Z"
    }
   },
   "cell_type": "code",
   "outputs": [
    {
     "name": "stdout",
     "output_type": "stream",
     "text": [
      "1/1 [==============================] - 0s 144ms/step\n",
      "1/1 [==============================] - 0s 125ms/step\n",
      "[[4.758847e-22 1.000000e+00]]\n"
     ]
    }
   ],
   "source": [
    "from sklearn.preprocessing import MinMaxScaler\n",
    "\n",
    "model = keras.models.load_model('convnet_with_augmentation.keras')\n",
    "\n",
    "layer_output = []\n",
    "layer_names = []\n",
    "for layer in model.layers:\n",
    "    if isinstance(layer, (layers.Conv2D, layers.MaxPooling2D)):\n",
    "        layer_output.append(layer.output)\n",
    "        layer_names.append(layer.name)\n",
    "        \n",
    "activation_model = keras.Model(inputs=model.input, outputs=layer_output)\n",
    "\n",
    "img_path = Image.open(\"dataset/test/picasso/1468.jpg\")\n",
    "img_path = np.reshape(img_path, (412, 550, 3))\n",
    "img_path = np.expand_dims(img_path, axis=0)\n",
    "\n",
    "activations = activation_model.predict(img_path)\n",
    "print(model.predict(img_path))\n",
    "\n",
    "images_per_row = 4\n",
    "for layer_name, layer_activations in zip(layer_names, activations):\n",
    "    n_features = layer_activations.shape[-1]\n",
    "    height = layer_activations.shape[2]\n",
    "    width = layer_activations.shape[1]\n",
    "    n_cols = n_features // images_per_row\n",
    "    display_grid = np.zeros(((width + 1) * n_cols - 1, images_per_row * (height + 1) - 1))\n",
    "    \n",
    "    for col in range(n_cols):\n",
    "        for row in range(images_per_row):\n",
    "            chanal_index = col * images_per_row + row\n",
    "            channel_img = layer_activations[0, :, :, chanal_index].copy()\n",
    "            \n",
    "            if channel_img.sum() != 0:\n",
    "                channel_img -= channel_img.mean()\n",
    "                channel_img /= channel_img.std()\n",
    "                channel_img *= 64\n",
    "                channel_img += 128\n",
    "\n",
    "            channel_img = np.clip(channel_img, 0, 255).astype(np.uint8)\n",
    "\n",
    "            display_grid[\n",
    "                col * (width + 1) : (col + 1) * width + col, \n",
    "                row * (height + 1) : (row + 1) * height + row\n",
    "            ] = channel_img\n",
    "\n",
    "    scale_width = 1.0 / width\n",
    "    scale_height = 1.0 / height\n",
    "    # plt.figure(figsize=(scale_height * display_grid.shape[1],scale_width * display_grid.shape[0]))\n",
    "    # plt.title(layer_name)\n",
    "    # plt.grid(False)\n",
    "    # plt.imshow(display_grid, aspect='auto', cmap='viridis')\n"
   ],
   "id": "f411f234a6a5a9b4",
   "execution_count": 7
  },
  {
   "metadata": {
    "ExecuteTime": {
     "end_time": "2024-02-04T12:34:48.517370900Z",
     "start_time": "2024-02-04T12:34:45.006801200Z"
    }
   },
   "cell_type": "code",
   "outputs": [
    {
     "name": "stdout",
     "output_type": "stream",
     "text": [
      "7/7 [==============================] - 2s 320ms/step - loss: 0.7494 - accuracy: 0.7800\n",
      "Test loss: 0.7493912577629089\n"
     ]
    }
   ],
   "source": [
    "cwd = os.getcwd()\n",
    "dir_test_rubens = \"dataset/test/rubens\"\n",
    "dir_test_picasso= \"dataset/test/picasso\"\n",
    "file_test_rubens = os.listdir(dir_test_rubens)\n",
    "file_test_picasso = os.listdir(dir_test_picasso)\n",
    "\n",
    "test_rubens = [Image.open(os.path.join(dir_test_rubens, file)) for file in file_validation_rubens]\n",
    "test_picasso = [Image.open(os.path.join(dir_test_picasso, file)) for file in file_test_picasso]\n",
    "\n",
    "test_set, test_labels = mix(test_rubens, test_picasso)\n",
    "\n",
    "test_set = test_set.reshape(len(test_set), 412, 550, 3)\n",
    "\n",
    "test_model = keras.models.load_model('convnet_with_augmentation.keras')\n",
    "test_loss, test_acc = test_model.evaluate(test_set, test_labels)\n",
    "print('Test loss:', test_loss)"
   ],
   "id": "2fa430b79ce02f51",
   "execution_count": 8
  }
 ],
 "metadata": {
  "kernelspec": {
   "display_name": "Python 3",
   "language": "python",
   "name": "python3"
  },
  "language_info": {
   "codemirror_mode": {
    "name": "ipython",
    "version": 2
   },
   "file_extension": ".py",
   "mimetype": "text/x-python",
   "name": "python",
   "nbconvert_exporter": "python",
   "pygments_lexer": "ipython2",
   "version": "2.7.6"
  }
 },
 "nbformat": 4,
 "nbformat_minor": 5
}
