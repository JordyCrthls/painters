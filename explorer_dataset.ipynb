{
 "cells": [
  {
   "cell_type": "code",
   "id": "initial_id",
   "metadata": {
    "collapsed": true,
    "ExecuteTime": {
     "end_time": "2024-01-21T16:52:12.668202400Z",
     "start_time": "2024-01-21T16:52:12.661291500Z"
    }
   },
   "outputs": [],
   "source": [
    "import os\n",
    "import cv2\n",
    "import numpy as np\n",
    "import matplotlib.pyplot as plt"
   ],
   "execution_count": 42
  },
  {
   "metadata": {},
   "cell_type": "markdown",
   "source": [
    "# count the images per painter"
   ],
   "id": "91bc37a40d46c10"
  },
  {
   "metadata": {
    "ExecuteTime": {
     "end_time": "2024-01-21T16:52:12.668704800Z",
     "start_time": "2024-01-21T16:52:12.665388300Z"
    }
   },
   "cell_type": "code",
   "outputs": [
    {
     "name": "stdout",
     "output_type": "stream",
     "text": [
      "There are 331 paintings from Mondriaan\n",
      "There are 1530 paintings from Picasso\n",
      "There are 85 paintings from Rembrandt\n",
      "There are 682 paintings from Rubens\n"
     ]
    }
   ],
   "source": [
    "dir_path = os.path.join(os.getcwd(), 'schilderijen')\n",
    "for root, dirs, files in os.walk(dir_path):\n",
    "    if root != dir_path:\n",
    "        print(f\"There are {len(files)} paintings from {os.path.basename(root)}\")\n",
    "\n",
    "# Usage:\n",
    "# count_files_in_subdirs('path_to_your_directory')"
   ],
   "id": "ab907570e7263f69",
   "execution_count": 43
  },
  {
   "metadata": {
    "ExecuteTime": {
     "end_time": "2024-01-21T16:52:23.516737700Z",
     "start_time": "2024-01-21T16:52:12.671215900Z"
    }
   },
   "cell_type": "code",
   "outputs": [],
   "source": [
    "def load_images_from_folder(folder):\n",
    "    images_dims = []\n",
    "    for subdir, dirs, files in os.walk(folder):\n",
    "        for file in files:\n",
    "            img = cv2.imread(os.path.join(subdir, file))\n",
    "            if img is not None:\n",
    "                height, width, depth = img.shape\n",
    "                images_dims.append([height, width])\n",
    "    return np.array(images_dims)\n",
    "\n",
    "src_dir = 'schilderijen'\n",
    "images_np_array = load_images_from_folder(src_dir)"
   ],
   "id": "84a667818938e8cb",
   "execution_count": 44
  },
  {
   "metadata": {},
   "cell_type": "markdown",
   "source": [
    "# Statistics of the width of the images"
   ],
   "id": "1e60adc72953f6c1"
  },
  {
   "metadata": {
    "ExecuteTime": {
     "end_time": "2024-01-21T16:52:23.521757600Z",
     "start_time": "2024-01-21T16:52:23.517738100Z"
    }
   },
   "cell_type": "code",
   "outputs": [
    {
     "name": "stdout",
     "output_type": "stream",
     "text": [
      "Min height:  92\n",
      "Max height:  6017\n",
      "Mean height:  655.4280821917808\n",
      "Median height:  590.0\n",
      "25th percentile of height:  383.0\n",
      "75th percentile of height:  842.0\n"
     ]
    }
   ],
   "source": [
    "heights = images_np_array[:, 0]\n",
    "print(\"Min height: \", np.min(heights))\n",
    "print(\"Max height: \", np.max(heights))\n",
    "print(\"Mean height: \", np.mean(heights))\n",
    "print(\"Median height: \", np.median(heights))\n",
    "print(\"25th percentile of height: \", np.percentile(heights, 25))\n",
    "print(\"75th percentile of height: \", np.percentile(heights, 75))"
   ],
   "id": "55f6cb912987f4d3",
   "execution_count": 45
  },
  {
   "metadata": {},
   "cell_type": "markdown",
   "source": [
    "# statistics of the height of the images"
   ],
   "id": "a8e82f069d389202"
  },
  {
   "metadata": {
    "ExecuteTime": {
     "end_time": "2024-01-21T16:52:23.535051Z",
     "start_time": "2024-01-21T16:52:23.522533300Z"
    }
   },
   "cell_type": "code",
   "outputs": [
    {
     "name": "stdout",
     "output_type": "stream",
     "text": [
      "Min width:  77\n",
      "Max width:  7264\n",
      "Mean width:  611.3150684931506\n",
      "Median width:  550.0\n",
      "25th percentile of width:  312.75\n",
      "75th percentile of width:  800.0\n"
     ]
    }
   ],
   "source": [
    "widths = images_np_array[:, 1]\n",
    "\n",
    "# Compute and print statistics\n",
    "print(\"Min width: \", np.min(widths))\n",
    "print(\"Max width: \", np.max(widths))\n",
    "print(\"Mean width: \", np.mean(widths))\n",
    "print(\"Median width: \", np.median(widths))\n",
    "print(\"25th percentile of width: \", np.percentile(widths, 25))\n",
    "print(\"75th percentile of width: \", np.percentile(widths, 75))"
   ],
   "id": "86259b010a6df4da",
   "execution_count": 46
  },
  {
   "metadata": {},
   "cell_type": "markdown",
   "source": [
    "# and in a nice graph:"
   ],
   "id": "4bc014bd2e60bbe8"
  },
  {
   "metadata": {
    "ExecuteTime": {
     "end_time": "2024-01-21T16:52:24.988776100Z",
     "start_time": "2024-01-21T16:52:24.664341900Z"
    }
   },
   "cell_type": "code",
   "outputs": [
    {
     "data": {
      "text/plain": [
       "<Figure size 1500x500 with 2 Axes>"
      ],
      "image/png": "[encoded data removed]"
     },
     "metadata": {},
     "output_type": "display_data"
    }
   ],
   "source": [
    "plt.figure(figsize=(15, 5))\n",
    "\n",
    "plt.subplot(1, 2, 1)\n",
    "plt.hist(heights, bins='auto')\n",
    "plt.title('Heights')\n",
    "plt.xlabel('Height')\n",
    "plt.ylabel('Frequency')\n",
    "\n",
    "plt.subplot(1, 2, 2)\n",
    "plt.hist(widths, bins='auto')\n",
    "plt.title('Widths')\n",
    "plt.xlabel('Width')\n",
    "\n",
    "plt.tight_layout()\n",
    "plt.show()"
   ],
   "id": "93c710a71aa9521e",
   "execution_count": 48
  }
 ],
 "metadata": {
  "kernelspec": {
   "display_name": "Python 3",
   "language": "python",
   "name": "python3"
  },
  "language_info": {
   "codemirror_mode": {
    "name": "ipython",
    "version": 2
   },
   "file_extension": ".py",
   "mimetype": "text/x-python",
   "name": "python",
   "nbconvert_exporter": "python",
   "pygments_lexer": "ipython2",
   "version": "2.7.6"
  }
 },
 "nbformat": 4,
 "nbformat_minor": 5
}
