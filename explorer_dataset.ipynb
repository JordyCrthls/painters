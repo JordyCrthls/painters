{
 "cells": [
  {
   "cell_type": "code",
   "id": "initial_id",
   "metadata": {
    "collapsed": true,
    "ExecuteTime": {
     "end_time": "2024-01-27T19:52:11.325411100Z",
     "start_time": "2024-01-27T19:52:11.314393900Z"
    }
   },
   "outputs": [],
   "source": [
    "import os\n",
    "import cv2\n",
    "import numpy as np\n",
    "import matplotlib.pyplot as plt\n",
    "from PIL.Image import Image\n",
    "import shutil"
   ],
   "execution_count": 19
  },
  {
   "metadata": {},
   "cell_type": "markdown",
   "source": [
    "# count the images per painter"
   ],
   "id": "91bc37a40d46c10"
  },
  {
   "metadata": {
    "ExecuteTime": {
     "end_time": "2024-01-27T19:52:11.346929900Z",
     "start_time": "2024-01-27T19:52:11.327410900Z"
    }
   },
   "cell_type": "code",
   "outputs": [
    {
     "name": "stdout",
     "output_type": "stream",
     "text": [
      "There are 331 paintings from Mondriaan\n",
      "There are 1532 paintings from Picasso\n",
      "There are 83 paintings from Rembrandt\n",
      "There are 686 paintings from Rubens\n"
     ]
    }
   ],
   "source": [
    "dir_path = os.path.join(os.getcwd(), 'schilderijen')\n",
    "for root, dirs, files in os.walk(dir_path):\n",
    "    if root != dir_path:\n",
    "        print(f\"There are {len(files)} paintings from {os.path.basename(root)}\")\n",
    "\n",
    "# Usage:\n",
    "# count_files_in_subdirs('path_to_your_directory')"
   ],
   "id": "ab907570e7263f69",
   "execution_count": 20
  },
  {
   "metadata": {
    "ExecuteTime": {
     "end_time": "2024-01-27T19:52:16.859223700Z",
     "start_time": "2024-01-27T19:52:11.332349900Z"
    }
   },
   "cell_type": "code",
   "outputs": [],
   "source": [
    "def load_images_from_folder(folder):\n",
    "    images_dims = []\n",
    "    for subdir, dirs, files in os.walk(folder):\n",
    "        for file in files:\n",
    "            img = cv2.imread(os.path.join(subdir, file))\n",
    "            if img is not None:\n",
    "                height, width, depth = img.shape\n",
    "                images_dims.append([height, width])\n",
    "    return np.array(images_dims)\n",
    "\n",
    "src_dir = 'schilderijen'\n",
    "images_np_array = load_images_from_folder(src_dir)"
   ],
   "id": "84a667818938e8cb",
   "execution_count": 21
  },
  {
   "metadata": {},
   "cell_type": "markdown",
   "source": [
    "# Statistics of the width of the images"
   ],
   "id": "1e60adc72953f6c1"
  },
  {
   "metadata": {
    "ExecuteTime": {
     "end_time": "2024-01-27T19:52:16.869518500Z",
     "start_time": "2024-01-27T19:52:16.860977Z"
    }
   },
   "cell_type": "code",
   "outputs": [
    {
     "name": "stdout",
     "output_type": "stream",
     "text": [
      "Min height:  127\n",
      "Max height:  1400\n",
      "Mean height:  585.8300380228137\n",
      "Median height:  550.0\n",
      "25th percentile of height:  421.0\n",
      "75th percentile of height:  732.0\n"
     ]
    }
   ],
   "source": [
    "heights = images_np_array[:, 0]\n",
    "print(\"Min height: \", np.min(heights))\n",
    "print(\"Max height: \", np.max(heights))\n",
    "print(\"Mean height: \", np.mean(heights))\n",
    "print(\"Median height: \", np.median(heights))\n",
    "print(\"25th percentile of height: \", np.percentile(heights, 25))\n",
    "print(\"75th percentile of height: \", np.percentile(heights, 75))"
   ],
   "id": "55f6cb912987f4d3",
   "execution_count": 22
  },
  {
   "metadata": {},
   "cell_type": "markdown",
   "source": [
    "# statistics of the height of the images"
   ],
   "id": "a8e82f069d389202"
  },
  {
   "metadata": {
    "ExecuteTime": {
     "end_time": "2024-01-27T19:52:16.876584600Z",
     "start_time": "2024-01-27T19:52:16.865999100Z"
    }
   },
   "cell_type": "code",
   "outputs": [
    {
     "name": "stdout",
     "output_type": "stream",
     "text": [
      "Min width:  550\n",
      "Max width:  550\n",
      "Mean width:  550.0\n",
      "Median width:  550.0\n",
      "25th percentile of width:  550.0\n",
      "75th percentile of width:  550.0\n"
     ]
    }
   ],
   "source": [
    "widths = images_np_array[:, 1]\n",
    "\n",
    "# Compute and print statistics\n",
    "print(\"Min width: \", np.min(widths))\n",
    "print(\"Max width: \", np.max(widths))\n",
    "print(\"Mean width: \", np.mean(widths))\n",
    "print(\"Median width: \", np.median(widths))\n",
    "print(\"25th percentile of width: \", np.percentile(widths, 25))\n",
    "print(\"75th percentile of width: \", np.percentile(widths, 75))"
   ],
   "id": "86259b010a6df4da",
   "execution_count": 23
  },
  {
   "metadata": {},
   "cell_type": "markdown",
   "source": [
    "# and in a nice graph:"
   ],
   "id": "4bc014bd2e60bbe8"
  },
  {
   "metadata": {
    "ExecuteTime": {
     "end_time": "2024-01-27T19:52:17.004235100Z",
     "start_time": "2024-01-27T19:52:16.878089Z"
    }
   },
   "cell_type": "code",
   "outputs": [
    {
     "data": {
      "text/plain": [
       "<Figure size 1500x500 with 2 Axes>"
      ],
      "image/png": "[encoded data removed]"
     },
     "metadata": {},
     "output_type": "display_data"
    }
   ],
   "source": [
    "plt.figure(figsize=(15, 5))\n",
    "\n",
    "plt.subplot(1, 2, 1)\n",
    "plt.hist(heights, bins='auto')\n",
    "plt.title('Heights')\n",
    "plt.xlabel('Height')\n",
    "plt.ylabel('Frequency')\n",
    "\n",
    "plt.subplot(1, 2, 2)\n",
    "plt.hist(widths, bins='auto')\n",
    "plt.title('Widths')\n",
    "plt.xlabel('Width')\n",
    "\n",
    "plt.tight_layout()\n",
    "plt.show()"
   ],
   "id": "93c710a71aa9521e",
   "execution_count": 24
  },
  {
   "metadata": {},
   "cell_type": "markdown",
   "source": [
    "These graphs show the frequency in which the widths and heights appear in de dataset."
   ],
   "id": "390d59e1087b8765"
  },
  {
   "metadata": {},
   "cell_type": "markdown",
   "source": [
    "# creating the dataset\n",
    "I chose for a mix of Under sampled, oversampled and Imbalanced.\n",
    "For the interpolation I would use Nearest-neigbor because it is best suited for categorization"
   ],
   "id": "1b9b48328d099ce4"
  },
  {
   "metadata": {
    "ExecuteTime": {
     "end_time": "2024-01-27T19:52:17.009739Z",
     "start_time": "2024-01-27T19:52:17.004235100Z"
    }
   },
   "cell_type": "code",
   "outputs": [],
   "source": [
    "def crate_map(path):\n",
    "    if not os.path.exists(path):\n",
    "        os.makedirs(path)\n",
    "        \n",
    "# painters = ['picasso', 'mondriaan', 'rembrandt', 'rubens']\n",
    "painters = ['picasso', 'rubens']\n",
    "situations = ['test', 'train', 'validation']\n",
    "\n",
    "cwd = os.getcwd()\n",
    "dataset_path = os.path.join(cwd, 'dataset')\n",
    "\n",
    "for situation in situations:\n",
    "    for painter in painters:\n",
    "        folder_path = os.path.join(dataset_path, situation, painter)\n",
    "        crate_map(folder_path)"
   ],
   "id": "19383e11be538096",
   "execution_count": 25
  },
  {
   "metadata": {
    "ExecuteTime": {
     "end_time": "2024-01-27T19:52:28.608279700Z",
     "start_time": "2024-01-27T19:52:17.014206600Z"
    }
   },
   "cell_type": "code",
   "outputs": [
    {
     "name": "stdout",
     "output_type": "stream",
     "text": [
      "Could not load image\n",
      "Could not load image\n"
     ]
    }
   ],
   "source": [
    "def resize_image(input_image_path, output_image_path, size=550):\n",
    "    original_image = cv2.imread(input_image_path)\n",
    "    if original_image is None:\n",
    "        print('Could not load image')\n",
    "        return\n",
    "    width, height = original_image.shape[:2]\n",
    "    \n",
    "    if width > height:\n",
    "        new_width = size\n",
    "        new_height = round(new_width * 3/4)\n",
    "    else:\n",
    "        new_height = size\n",
    "        new_width = round(new_height * 3/4)\n",
    "        \n",
    "    resized_img = cv2.resize(original_image, (new_width, new_height))\n",
    "\n",
    "    if width > height:\n",
    "        blank_image_width = 550\n",
    "        blank_image_height = 412\n",
    "    else:\n",
    "        blank_image_width = 412\n",
    "        blank_image_height = 550\n",
    "\n",
    "    blank_image = np.ones([blank_image_height, blank_image_width, 3], dtype=np.uint8) * 255\n",
    "\n",
    "    y_offset = (blank_image_height - new_height) // 2\n",
    "    x_offset = (blank_image_width - new_width) // 2\n",
    "\n",
    "    blank_image[y_offset:y_offset+new_height, x_offset:x_offset+new_width] = resized_img\n",
    "    \n",
    "    # check if output_image_path has a valid extension\n",
    "    _, ext = os.path.splitext(output_image_path)\n",
    "\n",
    "    assert ext in ['.jpg', '.png', '.bmp', '.tiff', '.JPG', '.jpeg'], \"Invalid file extension provided :\" + ext\n",
    "    \n",
    "    if blank_image.shape[0] > blank_image.shape[1]:\n",
    "        blank_image = cv2.rotate(blank_image, cv2.ROTATE_90_CLOCKWISE)\n",
    "    \n",
    "    cv2.imwrite(output_image_path, blank_image)\n",
    "\n",
    "def add_to_map(image, painter: str, status: str):\n",
    "    if status == 'train':\n",
    "        folder_path = os.path.join(dataset_path, 'train', painter.lower(), os.path.basename(image))\n",
    "    elif status == 'test':\n",
    "        folder_path = os.path.join(dataset_path, 'test', painter.lower(), os.path.basename(image))\n",
    "    elif status == 'validation':\n",
    "        folder_path = os.path.join(dataset_path, 'validation', painter.lower(), os.path.basename(image))\n",
    "    else:\n",
    "        print(\"Invalid status\")\n",
    "        return\n",
    "    image_path = os.path.join(os.getcwd(), painter, image)\n",
    "    resize_image(image_path, folder_path)\n",
    "\n",
    "def create_dataset(painter):\n",
    "    painter_paht = os.path.join(os.getcwd(), 'schilderijen', painter)\n",
    "    originals = os.listdir(painter_paht)\n",
    "    \n",
    "    for i in range(0, 500):\n",
    "        add_to_map(os.path.join(painter_paht, originals[i]), painter, 'train')\n",
    "        \n",
    "    for i in range(501, 601):\n",
    "        add_to_map(os.path.join(painter_paht, originals[i]), painter, 'test')\n",
    "        \n",
    "    for i in range(601, len(originals)):\n",
    "        add_to_map(os.path.join(painter_paht, originals[i]), painter, 'validation')\n",
    "\n",
    "originals = os.listdir('schilderijen')\n",
    "\n",
    "for painter in painters:\n",
    "    create_dataset(painter)"
   ],
   "id": "b1f090e2ce2f1d14",
   "execution_count": 26
  },
  {
   "metadata": {
    "ExecuteTime": {
     "end_time": "2024-01-27T19:52:28.612289100Z",
     "start_time": "2024-01-27T19:52:28.608783Z"
    }
   },
   "cell_type": "code",
   "outputs": [],
   "source": [],
   "id": "99a7d498ad91df8e",
   "execution_count": 26
  }
 ],
 "metadata": {
  "kernelspec": {
   "display_name": "Python 3",
   "language": "python",
   "name": "python3"
  },
  "language_info": {
   "codemirror_mode": {
    "name": "ipython",
    "version": 2
   },
   "file_extension": ".py",
   "mimetype": "text/x-python",
   "name": "python",
   "nbconvert_exporter": "python",
   "pygments_lexer": "ipython2",
   "version": "2.7.6"
  }
 },
 "nbformat": 4,
 "nbformat_minor": 5
}
