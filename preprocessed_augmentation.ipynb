{
 "cells": [
  {
   "metadata": {
    "ExecuteTime": {
     "end_time": "2024-02-04T15:38:30.719644900Z",
     "start_time": "2024-02-04T15:38:30.718138400Z"
    }
   },
   "cell_type": "code",
   "outputs": [],
   "source": [
    "from tensorflow import keras\n",
    "from tensorflow.keras import layers\n",
    "import numpy as np\n",
    "import cv2\n",
    "from PIL import Image\n",
    "import os\n",
    "import matplotlib.pyplot as plt"
   ],
   "id": "fffea8e4dc886fb4",
   "execution_count": 53
  },
  {
   "cell_type": "code",
   "id": "initial_id",
   "metadata": {
    "collapsed": true,
    "ExecuteTime": {
     "end_time": "2024-02-04T15:38:30.723263400Z",
     "start_time": "2024-02-04T15:38:30.720644800Z"
    }
   },
   "outputs": [],
   "source": [
    "# 2 painters simple convnet"
   ],
   "execution_count": 54
  },
  {
   "metadata": {
    "ExecuteTime": {
     "end_time": "2024-02-04T15:38:31.018587600Z",
     "start_time": "2024-02-04T15:38:30.724263500Z"
    }
   },
   "cell_type": "code",
   "outputs": [],
   "source": [
    "conv_base = keras.applications.vgg16.VGG16(\n",
    "    weights='imagenet',\n",
    "    include_top=False,\n",
    "    input_shape=(412, 550, 3)\n",
    ")\n",
    "\n",
    "conv_base.trainable = True\n",
    "for layer in conv_base.layers[:-2]:\n",
    "    layer.trainable = False\n",
    "\n",
    "data_augmentation = keras.Sequential([\n",
    "    # layers.RandomCrop(412, 550),\n",
    "    layers.RandomZoom(0.2),\n",
    "    layers.RandomRotation(0.2),\n",
    "    layers.RandomContrast(.2),\n",
    "    layers.RandomBrightness(.1),\n",
    "    layers.RandomFlip(\"horizontal_and_vertical\")\n",
    "])\n",
    "\n",
    "\n",
    "def create_simpleconvnet():\n",
    "    inputs = keras.Input(shape=(412, 550, 3))\n",
    "    x = data_augmentation(inputs)\n",
    "    x = keras.applications.vgg16.preprocess_input(x)\n",
    "    x = conv_base(x)\n",
    "    x = layers.Flatten()(x)\n",
    "    x = layers.Dense(256)(x)\n",
    "    x = layers.Dropout(0.5)(x)\n",
    "    outputs = layers.Dense(4, activation='softmax')(x)\n",
    "    model = keras.Model(inputs=inputs, outputs=outputs)\n",
    "\n",
    "    model.compile(loss=\"categorical_crossentropy\",optimizer=keras.optimizers.Adam(learning_rate=1e-9), metrics=[\"accuracy\"])\n",
    "\n",
    "    model.summary()\n",
    "\n",
    "    return model"
   ],
   "id": "a3a9517a8875345",
   "execution_count": 55
  },
  {
   "metadata": {
    "ExecuteTime": {
     "end_time": "2024-02-04T15:38:31.499840500Z",
     "start_time": "2024-02-04T15:38:31.018587600Z"
    }
   },
   "cell_type": "code",
   "outputs": [
    {
     "name": "stdout",
     "output_type": "stream",
     "text": [
      "Model: \"model_5\"\n",
      "_________________________________________________________________\n",
      " Layer (type)                Output Shape              Param #   \n",
      "=================================================================\n",
      " input_12 (InputLayer)       [(None, 412, 550, 3)]     0         \n",
      "                                                                 \n",
      " sequential_5 (Sequential)   (None, 412, 550, 3)       0         \n",
      "                                                                 \n",
      " tf.__operators__.getitem_5  (None, 412, 550, 3)       0         \n",
      "  (SlicingOpLambda)                                              \n",
      "                                                                 \n",
      " tf.nn.bias_add_5 (TFOpLamb  (None, 412, 550, 3)       0         \n",
      " da)                                                             \n",
      "                                                                 \n",
      " vgg16 (Functional)          (None, 12, 17, 512)       14714688  \n",
      "                                                                 \n",
      " flatten_5 (Flatten)         (None, 104448)            0         \n",
      "                                                                 \n",
      " dense_10 (Dense)            (None, 256)               26738944  \n",
      "                                                                 \n",
      " dropout_5 (Dropout)         (None, 256)               0         \n",
      "                                                                 \n",
      " dense_11 (Dense)            (None, 4)                 1028      \n",
      "                                                                 \n",
      "=================================================================\n",
      "Total params: 41454660 (158.14 MB)\n",
      "Trainable params: 29099780 (111.01 MB)\n",
      "Non-trainable params: 12354880 (47.13 MB)\n",
      "_________________________________________________________________\n"
     ]
    }
   ],
   "source": [
    "model = create_simpleconvnet()"
   ],
   "id": "c61ef4ce41033146",
   "execution_count": 56
  },
  {
   "metadata": {
    "ExecuteTime": {
     "end_time": "2024-02-04T15:38:31.508323400Z",
     "start_time": "2024-02-04T15:38:31.500840Z"
    }
   },
   "cell_type": "code",
   "outputs": [],
   "source": [
    "#mix arrays per n elements\n",
    "\n",
    "def mix(elements1:[], elements2:[], n=5):\n",
    "    objects_set = []\n",
    "    labels_set = []\n",
    "    i = 0\n",
    "    while i < len(elements1) and i < len(elements2):\n",
    "            objects_set.append(np.reshape(elements1[i], (412, 550, 3)))\n",
    "            labels_set.append([1, 0])\n",
    "    \n",
    "            objects_set.append(np.reshape(elements2[i], (412, 550, 3)))\n",
    "            labels_set.append([0, 1])\n",
    "            \n",
    "            i+=1\n",
    "            \n",
    "    return np.array(objects_set), np.array(labels_set)\n",
    "    "
   ],
   "id": "2ab2e31c4109aa47",
   "execution_count": 57
  },
  {
   "metadata": {
    "ExecuteTime": {
     "end_time": "2024-02-04T16:09:29.151341800Z",
     "start_time": "2024-02-04T15:38:31.502806500Z"
    }
   },
   "cell_type": "code",
   "outputs": [
    {
     "name": "stdout",
     "output_type": "stream",
     "text": [
      "Epoch 1/50\n",
      "8/8 [==============================] - ETA: 0s - loss: 11.8186 - accuracy: 0.2750INFO:tensorflow:Assets written to: convnet_pretrained_augmentation.tf\\assets\n"
     ]
    },
    {
     "name": "stderr",
     "output_type": "stream",
     "text": [
      "INFO:tensorflow:Assets written to: convnet_pretrained_augmentation.tf\\assets\n"
     ]
    },
    {
     "name": "stdout",
     "output_type": "stream",
     "text": [
      "8/8 [==============================] - 38s 5s/step - loss: 11.8186 - accuracy: 0.2750 - val_loss: 10.2003 - val_accuracy: 0.2958\n",
      "Epoch 2/50\n",
      "8/8 [==============================] - ETA: 0s - loss: 12.1846 - accuracy: 0.3250INFO:tensorflow:Assets written to: convnet_pretrained_augmentation.tf\\assets\n"
     ]
    },
    {
     "name": "stderr",
     "output_type": "stream",
     "text": [
      "INFO:tensorflow:Assets written to: convnet_pretrained_augmentation.tf\\assets\n"
     ]
    },
    {
     "name": "stdout",
     "output_type": "stream",
     "text": [
      "8/8 [==============================] - 38s 5s/step - loss: 12.1846 - accuracy: 0.3250 - val_loss: 9.3009 - val_accuracy: 0.3042\n",
      "Epoch 3/50\n",
      "8/8 [==============================] - ETA: 0s - loss: 13.3564 - accuracy: 0.2250INFO:tensorflow:Assets written to: convnet_pretrained_augmentation.tf\\assets\n"
     ]
    },
    {
     "name": "stderr",
     "output_type": "stream",
     "text": [
      "INFO:tensorflow:Assets written to: convnet_pretrained_augmentation.tf\\assets\n"
     ]
    },
    {
     "name": "stdout",
     "output_type": "stream",
     "text": [
      "8/8 [==============================] - 37s 5s/step - loss: 13.3564 - accuracy: 0.2250 - val_loss: 8.6450 - val_accuracy: 0.3167\n",
      "Epoch 4/50\n",
      "8/8 [==============================] - ETA: 0s - loss: 10.6513 - accuracy: 0.2500INFO:tensorflow:Assets written to: convnet_pretrained_augmentation.tf\\assets\n"
     ]
    },
    {
     "name": "stderr",
     "output_type": "stream",
     "text": [
      "INFO:tensorflow:Assets written to: convnet_pretrained_augmentation.tf\\assets\n"
     ]
    },
    {
     "name": "stdout",
     "output_type": "stream",
     "text": [
      "8/8 [==============================] - 37s 5s/step - loss: 10.6513 - accuracy: 0.2500 - val_loss: 8.1387 - val_accuracy: 0.3458\n",
      "Epoch 5/50\n",
      "8/8 [==============================] - ETA: 0s - loss: 7.7676 - accuracy: 0.4875INFO:tensorflow:Assets written to: convnet_pretrained_augmentation.tf\\assets\n"
     ]
    },
    {
     "name": "stderr",
     "output_type": "stream",
     "text": [
      "INFO:tensorflow:Assets written to: convnet_pretrained_augmentation.tf\\assets\n"
     ]
    },
    {
     "name": "stdout",
     "output_type": "stream",
     "text": [
      "8/8 [==============================] - 37s 5s/step - loss: 7.7676 - accuracy: 0.4875 - val_loss: 7.7699 - val_accuracy: 0.3542\n",
      "Epoch 6/50\n",
      "8/8 [==============================] - ETA: 0s - loss: 10.0770 - accuracy: 0.3500INFO:tensorflow:Assets written to: convnet_pretrained_augmentation.tf\\assets\n"
     ]
    },
    {
     "name": "stderr",
     "output_type": "stream",
     "text": [
      "INFO:tensorflow:Assets written to: convnet_pretrained_augmentation.tf\\assets\n"
     ]
    },
    {
     "name": "stdout",
     "output_type": "stream",
     "text": [
      "8/8 [==============================] - 37s 5s/step - loss: 10.0770 - accuracy: 0.3500 - val_loss: 7.4933 - val_accuracy: 0.3625\n",
      "Epoch 7/50\n",
      "8/8 [==============================] - ETA: 0s - loss: 9.8295 - accuracy: 0.3375INFO:tensorflow:Assets written to: convnet_pretrained_augmentation.tf\\assets\n"
     ]
    },
    {
     "name": "stderr",
     "output_type": "stream",
     "text": [
      "INFO:tensorflow:Assets written to: convnet_pretrained_augmentation.tf\\assets\n"
     ]
    },
    {
     "name": "stdout",
     "output_type": "stream",
     "text": [
      "8/8 [==============================] - 37s 5s/step - loss: 9.8295 - accuracy: 0.3375 - val_loss: 7.2689 - val_accuracy: 0.3917\n",
      "Epoch 8/50\n",
      "8/8 [==============================] - ETA: 0s - loss: 8.2797 - accuracy: 0.4000INFO:tensorflow:Assets written to: convnet_pretrained_augmentation.tf\\assets\n"
     ]
    },
    {
     "name": "stderr",
     "output_type": "stream",
     "text": [
      "INFO:tensorflow:Assets written to: convnet_pretrained_augmentation.tf\\assets\n"
     ]
    },
    {
     "name": "stdout",
     "output_type": "stream",
     "text": [
      "8/8 [==============================] - 37s 5s/step - loss: 8.2797 - accuracy: 0.4000 - val_loss: 7.0208 - val_accuracy: 0.4042\n",
      "Epoch 9/50\n",
      "8/8 [==============================] - ETA: 0s - loss: 9.3236 - accuracy: 0.4375INFO:tensorflow:Assets written to: convnet_pretrained_augmentation.tf\\assets\n"
     ]
    },
    {
     "name": "stderr",
     "output_type": "stream",
     "text": [
      "INFO:tensorflow:Assets written to: convnet_pretrained_augmentation.tf\\assets\n"
     ]
    },
    {
     "name": "stdout",
     "output_type": "stream",
     "text": [
      "8/8 [==============================] - 37s 5s/step - loss: 9.3236 - accuracy: 0.4375 - val_loss: 6.7734 - val_accuracy: 0.4250\n",
      "Epoch 10/50\n",
      "8/8 [==============================] - ETA: 0s - loss: 10.6381 - accuracy: 0.4250INFO:tensorflow:Assets written to: convnet_pretrained_augmentation.tf\\assets\n"
     ]
    },
    {
     "name": "stderr",
     "output_type": "stream",
     "text": [
      "INFO:tensorflow:Assets written to: convnet_pretrained_augmentation.tf\\assets\n"
     ]
    },
    {
     "name": "stdout",
     "output_type": "stream",
     "text": [
      "8/8 [==============================] - 38s 5s/step - loss: 10.6381 - accuracy: 0.4250 - val_loss: 6.5874 - val_accuracy: 0.4250\n",
      "Epoch 11/50\n",
      "8/8 [==============================] - ETA: 0s - loss: 6.2542 - accuracy: 0.4500INFO:tensorflow:Assets written to: convnet_pretrained_augmentation.tf\\assets\n"
     ]
    },
    {
     "name": "stderr",
     "output_type": "stream",
     "text": [
      "INFO:tensorflow:Assets written to: convnet_pretrained_augmentation.tf\\assets\n"
     ]
    },
    {
     "name": "stdout",
     "output_type": "stream",
     "text": [
      "8/8 [==============================] - 38s 5s/step - loss: 6.2542 - accuracy: 0.4500 - val_loss: 6.4032 - val_accuracy: 0.4458\n",
      "Epoch 12/50\n",
      "8/8 [==============================] - ETA: 0s - loss: 8.7503 - accuracy: 0.3500INFO:tensorflow:Assets written to: convnet_pretrained_augmentation.tf\\assets\n"
     ]
    },
    {
     "name": "stderr",
     "output_type": "stream",
     "text": [
      "INFO:tensorflow:Assets written to: convnet_pretrained_augmentation.tf\\assets\n"
     ]
    },
    {
     "name": "stdout",
     "output_type": "stream",
     "text": [
      "8/8 [==============================] - 37s 5s/step - loss: 8.7503 - accuracy: 0.3500 - val_loss: 6.2094 - val_accuracy: 0.4583\n",
      "Epoch 13/50\n",
      "8/8 [==============================] - ETA: 0s - loss: 7.0377 - accuracy: 0.4500INFO:tensorflow:Assets written to: convnet_pretrained_augmentation.tf\\assets\n"
     ]
    },
    {
     "name": "stderr",
     "output_type": "stream",
     "text": [
      "INFO:tensorflow:Assets written to: convnet_pretrained_augmentation.tf\\assets\n"
     ]
    },
    {
     "name": "stdout",
     "output_type": "stream",
     "text": [
      "8/8 [==============================] - 38s 5s/step - loss: 7.0377 - accuracy: 0.4500 - val_loss: 5.9965 - val_accuracy: 0.4708\n",
      "Epoch 14/50\n",
      "8/8 [==============================] - ETA: 0s - loss: 7.0431 - accuracy: 0.5250INFO:tensorflow:Assets written to: convnet_pretrained_augmentation.tf\\assets\n"
     ]
    },
    {
     "name": "stderr",
     "output_type": "stream",
     "text": [
      "INFO:tensorflow:Assets written to: convnet_pretrained_augmentation.tf\\assets\n"
     ]
    },
    {
     "name": "stdout",
     "output_type": "stream",
     "text": [
      "8/8 [==============================] - 37s 5s/step - loss: 7.0431 - accuracy: 0.5250 - val_loss: 5.8078 - val_accuracy: 0.4875\n",
      "Epoch 15/50\n",
      "8/8 [==============================] - ETA: 0s - loss: 7.3611 - accuracy: 0.4125INFO:tensorflow:Assets written to: convnet_pretrained_augmentation.tf\\assets\n"
     ]
    },
    {
     "name": "stderr",
     "output_type": "stream",
     "text": [
      "INFO:tensorflow:Assets written to: convnet_pretrained_augmentation.tf\\assets\n"
     ]
    },
    {
     "name": "stdout",
     "output_type": "stream",
     "text": [
      "8/8 [==============================] - 37s 5s/step - loss: 7.3611 - accuracy: 0.4125 - val_loss: 5.7092 - val_accuracy: 0.4875\n",
      "Epoch 16/50\n",
      "8/8 [==============================] - ETA: 0s - loss: 7.0153 - accuracy: 0.5375INFO:tensorflow:Assets written to: convnet_pretrained_augmentation.tf\\assets\n"
     ]
    },
    {
     "name": "stderr",
     "output_type": "stream",
     "text": [
      "INFO:tensorflow:Assets written to: convnet_pretrained_augmentation.tf\\assets\n"
     ]
    },
    {
     "name": "stdout",
     "output_type": "stream",
     "text": [
      "8/8 [==============================] - 38s 5s/step - loss: 7.0153 - accuracy: 0.5375 - val_loss: 5.6045 - val_accuracy: 0.4958\n",
      "Epoch 17/50\n",
      "8/8 [==============================] - ETA: 0s - loss: 7.5090 - accuracy: 0.4500INFO:tensorflow:Assets written to: convnet_pretrained_augmentation.tf\\assets\n"
     ]
    },
    {
     "name": "stderr",
     "output_type": "stream",
     "text": [
      "INFO:tensorflow:Assets written to: convnet_pretrained_augmentation.tf\\assets\n"
     ]
    },
    {
     "name": "stdout",
     "output_type": "stream",
     "text": [
      "8/8 [==============================] - 37s 5s/step - loss: 7.5090 - accuracy: 0.4500 - val_loss: 5.4669 - val_accuracy: 0.5125\n",
      "Epoch 18/50\n",
      "8/8 [==============================] - ETA: 0s - loss: 7.4094 - accuracy: 0.4000INFO:tensorflow:Assets written to: convnet_pretrained_augmentation.tf\\assets\n"
     ]
    },
    {
     "name": "stderr",
     "output_type": "stream",
     "text": [
      "INFO:tensorflow:Assets written to: convnet_pretrained_augmentation.tf\\assets\n"
     ]
    },
    {
     "name": "stdout",
     "output_type": "stream",
     "text": [
      "8/8 [==============================] - 38s 5s/step - loss: 7.4094 - accuracy: 0.4000 - val_loss: 5.2810 - val_accuracy: 0.5250\n",
      "Epoch 19/50\n",
      "8/8 [==============================] - ETA: 0s - loss: 5.9349 - accuracy: 0.4750INFO:tensorflow:Assets written to: convnet_pretrained_augmentation.tf\\assets\n"
     ]
    },
    {
     "name": "stderr",
     "output_type": "stream",
     "text": [
      "INFO:tensorflow:Assets written to: convnet_pretrained_augmentation.tf\\assets\n"
     ]
    },
    {
     "name": "stdout",
     "output_type": "stream",
     "text": [
      "8/8 [==============================] - 38s 5s/step - loss: 5.9349 - accuracy: 0.4750 - val_loss: 5.1678 - val_accuracy: 0.5208\n",
      "Epoch 20/50\n",
      "8/8 [==============================] - ETA: 0s - loss: 5.5115 - accuracy: 0.5625INFO:tensorflow:Assets written to: convnet_pretrained_augmentation.tf\\assets\n"
     ]
    },
    {
     "name": "stderr",
     "output_type": "stream",
     "text": [
      "INFO:tensorflow:Assets written to: convnet_pretrained_augmentation.tf\\assets\n"
     ]
    },
    {
     "name": "stdout",
     "output_type": "stream",
     "text": [
      "8/8 [==============================] - 37s 5s/step - loss: 5.5115 - accuracy: 0.5625 - val_loss: 5.0658 - val_accuracy: 0.5375\n",
      "Epoch 21/50\n",
      "8/8 [==============================] - ETA: 0s - loss: 7.2493 - accuracy: 0.4750INFO:tensorflow:Assets written to: convnet_pretrained_augmentation.tf\\assets\n"
     ]
    },
    {
     "name": "stderr",
     "output_type": "stream",
     "text": [
      "INFO:tensorflow:Assets written to: convnet_pretrained_augmentation.tf\\assets\n"
     ]
    },
    {
     "name": "stdout",
     "output_type": "stream",
     "text": [
      "8/8 [==============================] - 38s 5s/step - loss: 7.2493 - accuracy: 0.4750 - val_loss: 4.9770 - val_accuracy: 0.5500\n",
      "Epoch 22/50\n",
      "8/8 [==============================] - ETA: 0s - loss: 4.5719 - accuracy: 0.5875INFO:tensorflow:Assets written to: convnet_pretrained_augmentation.tf\\assets\n"
     ]
    },
    {
     "name": "stderr",
     "output_type": "stream",
     "text": [
      "INFO:tensorflow:Assets written to: convnet_pretrained_augmentation.tf\\assets\n"
     ]
    },
    {
     "name": "stdout",
     "output_type": "stream",
     "text": [
      "8/8 [==============================] - 37s 5s/step - loss: 4.5719 - accuracy: 0.5875 - val_loss: 4.8559 - val_accuracy: 0.5458\n",
      "Epoch 23/50\n",
      "8/8 [==============================] - ETA: 0s - loss: 5.9913 - accuracy: 0.5625INFO:tensorflow:Assets written to: convnet_pretrained_augmentation.tf\\assets\n"
     ]
    },
    {
     "name": "stderr",
     "output_type": "stream",
     "text": [
      "INFO:tensorflow:Assets written to: convnet_pretrained_augmentation.tf\\assets\n"
     ]
    },
    {
     "name": "stdout",
     "output_type": "stream",
     "text": [
      "8/8 [==============================] - 37s 5s/step - loss: 5.9913 - accuracy: 0.5625 - val_loss: 4.7937 - val_accuracy: 0.5625\n",
      "Epoch 24/50\n",
      "8/8 [==============================] - ETA: 0s - loss: 5.7523 - accuracy: 0.5875INFO:tensorflow:Assets written to: convnet_pretrained_augmentation.tf\\assets\n"
     ]
    },
    {
     "name": "stderr",
     "output_type": "stream",
     "text": [
      "INFO:tensorflow:Assets written to: convnet_pretrained_augmentation.tf\\assets\n"
     ]
    },
    {
     "name": "stdout",
     "output_type": "stream",
     "text": [
      "8/8 [==============================] - 37s 5s/step - loss: 5.7523 - accuracy: 0.5875 - val_loss: 4.7580 - val_accuracy: 0.5750\n",
      "Epoch 25/50\n",
      "8/8 [==============================] - ETA: 0s - loss: 5.7807 - accuracy: 0.5750INFO:tensorflow:Assets written to: convnet_pretrained_augmentation.tf\\assets\n"
     ]
    },
    {
     "name": "stderr",
     "output_type": "stream",
     "text": [
      "INFO:tensorflow:Assets written to: convnet_pretrained_augmentation.tf\\assets\n"
     ]
    },
    {
     "name": "stdout",
     "output_type": "stream",
     "text": [
      "8/8 [==============================] - 37s 5s/step - loss: 5.7807 - accuracy: 0.5750 - val_loss: 4.7001 - val_accuracy: 0.5792\n",
      "Epoch 26/50\n",
      "8/8 [==============================] - ETA: 0s - loss: 5.7676 - accuracy: 0.4750INFO:tensorflow:Assets written to: convnet_pretrained_augmentation.tf\\assets\n"
     ]
    },
    {
     "name": "stderr",
     "output_type": "stream",
     "text": [
      "INFO:tensorflow:Assets written to: convnet_pretrained_augmentation.tf\\assets\n"
     ]
    },
    {
     "name": "stdout",
     "output_type": "stream",
     "text": [
      "8/8 [==============================] - 37s 5s/step - loss: 5.7676 - accuracy: 0.4750 - val_loss: 4.6045 - val_accuracy: 0.5833\n",
      "Epoch 27/50\n",
      "8/8 [==============================] - ETA: 0s - loss: 4.2376 - accuracy: 0.5875INFO:tensorflow:Assets written to: convnet_pretrained_augmentation.tf\\assets\n"
     ]
    },
    {
     "name": "stderr",
     "output_type": "stream",
     "text": [
      "INFO:tensorflow:Assets written to: convnet_pretrained_augmentation.tf\\assets\n"
     ]
    },
    {
     "name": "stdout",
     "output_type": "stream",
     "text": [
      "8/8 [==============================] - 37s 5s/step - loss: 4.2376 - accuracy: 0.5875 - val_loss: 4.5661 - val_accuracy: 0.5875\n",
      "Epoch 28/50\n",
      "8/8 [==============================] - ETA: 0s - loss: 4.9842 - accuracy: 0.5875INFO:tensorflow:Assets written to: convnet_pretrained_augmentation.tf\\assets\n"
     ]
    },
    {
     "name": "stderr",
     "output_type": "stream",
     "text": [
      "INFO:tensorflow:Assets written to: convnet_pretrained_augmentation.tf\\assets\n"
     ]
    },
    {
     "name": "stdout",
     "output_type": "stream",
     "text": [
      "8/8 [==============================] - 38s 5s/step - loss: 4.9842 - accuracy: 0.5875 - val_loss: 4.5384 - val_accuracy: 0.5917\n",
      "Epoch 29/50\n",
      "8/8 [==============================] - 36s 5s/step - loss: 4.9695 - accuracy: 0.6375 - val_loss: 4.5848 - val_accuracy: 0.6042\n",
      "Epoch 30/50\n",
      "8/8 [==============================] - 36s 5s/step - loss: 4.0269 - accuracy: 0.5625 - val_loss: 4.5941 - val_accuracy: 0.6083\n",
      "Epoch 31/50\n",
      "8/8 [==============================] - 36s 5s/step - loss: 4.4191 - accuracy: 0.5250 - val_loss: 4.6499 - val_accuracy: 0.6125\n",
      "Epoch 32/50\n",
      "8/8 [==============================] - 36s 5s/step - loss: 4.1761 - accuracy: 0.6750 - val_loss: 4.5556 - val_accuracy: 0.6208\n",
      "Epoch 33/50\n",
      "8/8 [==============================] - ETA: 0s - loss: 4.2504 - accuracy: 0.6875INFO:tensorflow:Assets written to: convnet_pretrained_augmentation.tf\\assets\n"
     ]
    },
    {
     "name": "stderr",
     "output_type": "stream",
     "text": [
      "INFO:tensorflow:Assets written to: convnet_pretrained_augmentation.tf\\assets\n"
     ]
    },
    {
     "name": "stdout",
     "output_type": "stream",
     "text": [
      "8/8 [==============================] - 38s 5s/step - loss: 4.2504 - accuracy: 0.6875 - val_loss: 4.4908 - val_accuracy: 0.6250\n",
      "Epoch 34/50\n",
      "8/8 [==============================] - ETA: 0s - loss: 5.0096 - accuracy: 0.5875INFO:tensorflow:Assets written to: convnet_pretrained_augmentation.tf\\assets\n"
     ]
    },
    {
     "name": "stderr",
     "output_type": "stream",
     "text": [
      "INFO:tensorflow:Assets written to: convnet_pretrained_augmentation.tf\\assets\n"
     ]
    },
    {
     "name": "stdout",
     "output_type": "stream",
     "text": [
      "8/8 [==============================] - 37s 5s/step - loss: 5.0096 - accuracy: 0.5875 - val_loss: 4.3975 - val_accuracy: 0.6292\n",
      "Epoch 35/50\n",
      "8/8 [==============================] - ETA: 0s - loss: 4.5785 - accuracy: 0.6250INFO:tensorflow:Assets written to: convnet_pretrained_augmentation.tf\\assets\n"
     ]
    },
    {
     "name": "stderr",
     "output_type": "stream",
     "text": [
      "INFO:tensorflow:Assets written to: convnet_pretrained_augmentation.tf\\assets\n"
     ]
    },
    {
     "name": "stdout",
     "output_type": "stream",
     "text": [
      "8/8 [==============================] - 38s 5s/step - loss: 4.5785 - accuracy: 0.6250 - val_loss: 4.2881 - val_accuracy: 0.6375\n",
      "Epoch 36/50\n",
      "8/8 [==============================] - ETA: 0s - loss: 5.4915 - accuracy: 0.6000INFO:tensorflow:Assets written to: convnet_pretrained_augmentation.tf\\assets\n"
     ]
    },
    {
     "name": "stderr",
     "output_type": "stream",
     "text": [
      "INFO:tensorflow:Assets written to: convnet_pretrained_augmentation.tf\\assets\n"
     ]
    },
    {
     "name": "stdout",
     "output_type": "stream",
     "text": [
      "8/8 [==============================] - 37s 5s/step - loss: 5.4915 - accuracy: 0.6000 - val_loss: 4.2767 - val_accuracy: 0.6458\n",
      "Epoch 37/50\n",
      "8/8 [==============================] - ETA: 0s - loss: 3.8484 - accuracy: 0.5625INFO:tensorflow:Assets written to: convnet_pretrained_augmentation.tf\\assets\n"
     ]
    },
    {
     "name": "stderr",
     "output_type": "stream",
     "text": [
      "INFO:tensorflow:Assets written to: convnet_pretrained_augmentation.tf\\assets\n"
     ]
    },
    {
     "name": "stdout",
     "output_type": "stream",
     "text": [
      "8/8 [==============================] - 38s 5s/step - loss: 3.8484 - accuracy: 0.5625 - val_loss: 4.1957 - val_accuracy: 0.6500\n",
      "Epoch 38/50\n",
      "8/8 [==============================] - ETA: 0s - loss: 4.5144 - accuracy: 0.6500INFO:tensorflow:Assets written to: convnet_pretrained_augmentation.tf\\assets\n"
     ]
    },
    {
     "name": "stderr",
     "output_type": "stream",
     "text": [
      "INFO:tensorflow:Assets written to: convnet_pretrained_augmentation.tf\\assets\n"
     ]
    },
    {
     "name": "stdout",
     "output_type": "stream",
     "text": [
      "8/8 [==============================] - 37s 5s/step - loss: 4.5144 - accuracy: 0.6500 - val_loss: 4.0973 - val_accuracy: 0.6417\n",
      "Epoch 39/50\n",
      "8/8 [==============================] - ETA: 0s - loss: 3.8223 - accuracy: 0.6375INFO:tensorflow:Assets written to: convnet_pretrained_augmentation.tf\\assets\n"
     ]
    },
    {
     "name": "stderr",
     "output_type": "stream",
     "text": [
      "INFO:tensorflow:Assets written to: convnet_pretrained_augmentation.tf\\assets\n"
     ]
    },
    {
     "name": "stdout",
     "output_type": "stream",
     "text": [
      "8/8 [==============================] - 37s 5s/step - loss: 3.8223 - accuracy: 0.6375 - val_loss: 3.9793 - val_accuracy: 0.6375\n",
      "Epoch 40/50\n",
      "8/8 [==============================] - ETA: 0s - loss: 4.1665 - accuracy: 0.7000INFO:tensorflow:Assets written to: convnet_pretrained_augmentation.tf\\assets\n"
     ]
    },
    {
     "name": "stderr",
     "output_type": "stream",
     "text": [
      "INFO:tensorflow:Assets written to: convnet_pretrained_augmentation.tf\\assets\n"
     ]
    },
    {
     "name": "stdout",
     "output_type": "stream",
     "text": [
      "8/8 [==============================] - 38s 5s/step - loss: 4.1665 - accuracy: 0.7000 - val_loss: 3.9372 - val_accuracy: 0.6417\n",
      "Epoch 41/50\n",
      "8/8 [==============================] - 36s 5s/step - loss: 3.4559 - accuracy: 0.6625 - val_loss: 3.9487 - val_accuracy: 0.6375\n",
      "Epoch 42/50\n",
      "8/8 [==============================] - 37s 5s/step - loss: 2.6505 - accuracy: 0.7000 - val_loss: 4.0073 - val_accuracy: 0.6542\n",
      "Epoch 43/50\n",
      "8/8 [==============================] - 37s 5s/step - loss: 4.7109 - accuracy: 0.5750 - val_loss: 4.0610 - val_accuracy: 0.6667\n",
      "Epoch 44/50\n",
      "8/8 [==============================] - 37s 5s/step - loss: 2.5207 - accuracy: 0.6750 - val_loss: 4.1180 - val_accuracy: 0.6667\n",
      "Epoch 45/50\n",
      "8/8 [==============================] - 36s 5s/step - loss: 3.3375 - accuracy: 0.6500 - val_loss: 4.0792 - val_accuracy: 0.6708\n",
      "Epoch 46/50\n",
      "8/8 [==============================] - 36s 5s/step - loss: 2.5584 - accuracy: 0.7500 - val_loss: 4.0371 - val_accuracy: 0.6708\n",
      "Epoch 47/50\n",
      "8/8 [==============================] - 36s 5s/step - loss: 3.7912 - accuracy: 0.6625 - val_loss: 4.0413 - val_accuracy: 0.6750\n",
      "Epoch 48/50\n",
      "8/8 [==============================] - 36s 5s/step - loss: 2.6132 - accuracy: 0.7000 - val_loss: 4.0240 - val_accuracy: 0.6750\n",
      "Epoch 49/50\n",
      "8/8 [==============================] - 37s 5s/step - loss: 3.9102 - accuracy: 0.6250 - val_loss: 4.0127 - val_accuracy: 0.6833\n",
      "Epoch 50/50\n",
      "8/8 [==============================] - 37s 5s/step - loss: 4.2929 - accuracy: 0.7000 - val_loss: 4.0275 - val_accuracy: 0.6875\n"
     ]
    },
    {
     "data": {
      "text/plain": "<Figure size 1200x400 with 2 Axes>",
      "image/png": "[encoded data removed]"
     },
     "metadata": {},
     "output_type": "display_data"
    }
   ],
   "source": [
    "import itertools\n",
    "\n",
    "cwd = os.getcwd()\n",
    "\n",
    "dir_train_rubens = \"dataset/train/rubens\"\n",
    "dir_train_picasso= \"dataset/train/picasso\"\n",
    "dir_train_mondriaan= \"dataset/train/mondriaan\"\n",
    "dir_train_rembrandt= \"dataset/train/rembrandt\"\n",
    "dir_validation_rubens = \"dataset/validation/rubens\"\n",
    "dir_validation_picasso= \"dataset/validation/picasso\"\n",
    "dir_validation_mondriaan= \"dataset/validation/mondriaan\"\n",
    "dir_validation_rembrandt= \"dataset/validation/rembrandt\"\n",
    "file_train_rubens = os.listdir(dir_train_rubens)\n",
    "file_validation_rubens = os.listdir(dir_validation_rubens)\n",
    "file_train_picasso = os.listdir(dir_train_picasso)\n",
    "file_validation_picasso = os.listdir(dir_validation_picasso)\n",
    "file_train_mondriaan = os.listdir(dir_train_mondriaan)\n",
    "file_validation_mondriaan = os.listdir(dir_validation_mondriaan)\n",
    "file_train_rembrandt = os.listdir(dir_train_rembrandt)\n",
    "file_validation_rembrandt = os.listdir(dir_validation_rembrandt)\n",
    "\n",
    "train_rubens =[Image.open(os.path.join(dir_train_rubens, file)) for file in file_train_rubens]\n",
    "train_picasso =[Image.open(os.path.join(dir_train_picasso, file)) for file in file_train_picasso]\n",
    "train_mondriaan =[Image.open(os.path.join(dir_train_mondriaan, file)) for file in file_train_mondriaan]\n",
    "train_rembrandt =[Image.open(os.path.join(dir_train_rembrandt, file)) for file in file_train_rembrandt]\n",
    "\n",
    "validation_rubens = [Image.open(os.path.join(dir_validation_rubens, file)) for file in file_validation_rubens]\n",
    "validation_picasso = [Image.open(os.path.join(dir_validation_picasso, file)) for file in file_validation_picasso]\n",
    "validation_mondriaan = [Image.open(os.path.join(dir_validation_mondriaan, file)) for file in file_validation_mondriaan]\n",
    "validation_rembrandt = [Image.open(os.path.join(dir_validation_rembrandt, file)) for file in file_validation_rembrandt]\n",
    "\n",
    "data_val_rubens = []\n",
    "data_val_picasso = []\n",
    "data_val_mondriaan = []\n",
    "data_val_rembrandt = []\n",
    "\n",
    "for val in validation_rubens:\n",
    "    data_val_rubens.append((np.array(val), np.array([0,0,0,1])))\n",
    "\n",
    "for val in validation_picasso:\n",
    "    data_val_picasso.append((np.array(val), np.array([0,0,1,0])))\n",
    "\n",
    "for val in validation_mondriaan:\n",
    "    data_val_mondriaan.append((np.array(val), np.array([0,1,0,0])))\n",
    "\n",
    "for val in validation_rembrandt:\n",
    "    data_val_rembrandt.append((np.array(val), np.array([1,0,0,0])))\n",
    "\n",
    "data_train_rubens = []\n",
    "data_train_picasso = []\n",
    "data_train_mondriaan = []\n",
    "data_train_rembrandt = []\n",
    "\n",
    "for val in train_rubens:\n",
    "    data_train_rubens.append((np.array(val), np.array([0,0,0,1])))\n",
    "\n",
    "for val in train_picasso:\n",
    "    data_train_picasso.append((np.array(val), np.array([0,0,1,0])))\n",
    "\n",
    "for val in train_mondriaan:\n",
    "    data_train_mondriaan.append((np.array(val), np.array([0,1,0,0])))\n",
    "\n",
    "for val in train_rembrandt:\n",
    "    data_train_rembrandt.append((np.array(val), np.array([1,0,0,0])))\n",
    "\n",
    "data_validation = data_val_rubens + data_val_picasso + data_val_mondriaan + data_val_rembrandt\n",
    "data_train = data_train_rubens + data_train_picasso + data_train_mondriaan + data_train_rembrandt\n",
    "\n",
    "mixed_data_validation = list(itertools.chain.from_iterable(itertools.zip_longest(data_val_rubens, data_val_picasso, data_val_mondriaan, data_val_rembrandt)))\n",
    "mixed_data_train = list(itertools.chain.from_iterable(itertools.zip_longest(data_train_rubens, data_train_picasso, data_train_mondriaan, data_train_rembrandt)))\n",
    "\n",
    "train_set, train_labels = [list(i) for i in zip(*mixed_data_validation)]\n",
    "validation_set, validation_labels = [list(i) for i in zip(*mixed_data_train)]\n",
    "\n",
    "train_set = [sublist for sublist in train_set]\n",
    "validation_set = [sublist for sublist in validation_set]\n",
    "\n",
    "train_set = np.array(train_set).reshape(len(train_set), 412, 550, 3)\n",
    "validation_set = np.array(validation_set).reshape(len(validation_set), 412, 550, 3)\n",
    "\n",
    "callbacks = [\n",
    "    keras.callbacks.ModelCheckpoint(filepath=\"convnet_pretrained_augmentation.tf\", save_best_only=True, monitor=\"val_loss\"),\n",
    "    keras.callbacks.EarlyStopping(monitor=\"val_accuracy\", patience=5) #Stoppen bij gebrek aan verbetering\n",
    "    ]\n",
    "\n",
    "history = model.fit(train_set, np.array(train_labels), validation_data=(validation_set, np.array(validation_labels)), epochs=100, batch_size=10, callbacks=callbacks)\n",
    "\n",
    "plt.figure(figsize=(12, 4))\n",
    "\n",
    "plt.subplot(1, 2, 1)\n",
    "plt.plot(history.history['accuracy'])\n",
    "plt.plot(history.history['val_accuracy'])\n",
    "plt.title('Model accuracy')\n",
    "plt.ylabel('Accuracy')\n",
    "plt.xlabel('Epoch')\n",
    "plt.legend(['Train', 'validation'], loc='upper left')\n",
    "\n",
    "# Plot training & validation loss values\n",
    "plt.subplot(1, 2, 2)\n",
    "plt.plot(history.history['loss'])\n",
    "plt.plot(history.history['val_loss'])\n",
    "plt.title('Model loss')\n",
    "plt.ylabel('Loss')\n",
    "plt.xlabel('Epoch')\n",
    "plt.legend(['Train', 'validation'], loc='upper left')\n",
    "\n",
    "plt.show()"
   ],
   "id": "9edf50090838c0cd",
   "execution_count": 58
  },
  {
   "metadata": {
    "ExecuteTime": {
     "end_time": "2024-02-04T16:09:30.288047700Z",
     "start_time": "2024-02-04T16:09:29.156728800Z"
    }
   },
   "cell_type": "code",
   "outputs": [
    {
     "name": "stdout",
     "output_type": "stream",
     "text": [
      "(1, 412, 550, 3)\n",
      "1/1 [==============================] - 0s 26ms/step\n"
     ]
    },
    {
     "ename": "IndexError",
     "evalue": "list index out of range",
     "output_type": "error",
     "traceback": [
      "\u001B[1;31m---------------------------------------------------------------------------\u001B[0m",
      "\u001B[1;31mIndexError\u001B[0m                                Traceback (most recent call last)",
      "Cell \u001B[1;32mIn[59], line 20\u001B[0m\n\u001B[0;32m     18\u001B[0m \u001B[38;5;66;03m# img_path , _ = get_features_and_labels(img_path, None)\u001B[39;00m\n\u001B[0;32m     19\u001B[0m \u001B[38;5;28mprint\u001B[39m(img_path\u001B[38;5;241m.\u001B[39mshape)\n\u001B[1;32m---> 20\u001B[0m activations \u001B[38;5;241m=\u001B[39m \u001B[43mactivation_model\u001B[49m\u001B[38;5;241;43m.\u001B[39;49m\u001B[43mpredict\u001B[49m\u001B[43m(\u001B[49m\u001B[43mimg_path\u001B[49m\u001B[43m)\u001B[49m\n\u001B[0;32m     22\u001B[0m images_per_row \u001B[38;5;241m=\u001B[39m \u001B[38;5;241m4\u001B[39m\n\u001B[0;32m     23\u001B[0m \u001B[38;5;28;01mfor\u001B[39;00m layer_name, layer_activations \u001B[38;5;129;01min\u001B[39;00m \u001B[38;5;28mzip\u001B[39m(layer_names, activations):\n",
      "File \u001B[1;32m~\\AppData\\Local\\Programs\\Python\\Python311\\Lib\\site-packages\\keras\\src\\utils\\traceback_utils.py:70\u001B[0m, in \u001B[0;36mfilter_traceback.<locals>.error_handler\u001B[1;34m(*args, **kwargs)\u001B[0m\n\u001B[0;32m     67\u001B[0m     filtered_tb \u001B[38;5;241m=\u001B[39m _process_traceback_frames(e\u001B[38;5;241m.\u001B[39m__traceback__)\n\u001B[0;32m     68\u001B[0m     \u001B[38;5;66;03m# To get the full stack trace, call:\u001B[39;00m\n\u001B[0;32m     69\u001B[0m     \u001B[38;5;66;03m# `tf.debugging.disable_traceback_filtering()`\u001B[39;00m\n\u001B[1;32m---> 70\u001B[0m     \u001B[38;5;28;01mraise\u001B[39;00m e\u001B[38;5;241m.\u001B[39mwith_traceback(filtered_tb) \u001B[38;5;28;01mfrom\u001B[39;00m \u001B[38;5;28;01mNone\u001B[39;00m\n\u001B[0;32m     71\u001B[0m \u001B[38;5;28;01mfinally\u001B[39;00m:\n\u001B[0;32m     72\u001B[0m     \u001B[38;5;28;01mdel\u001B[39;00m filtered_tb\n",
      "File \u001B[1;32m~\\AppData\\Local\\Programs\\Python\\Python311\\Lib\\site-packages\\keras\\src\\utils\\tf_utils.py:680\u001B[0m, in \u001B[0;36msync_to_numpy_or_python_type\u001B[1;34m(tensors)\u001B[0m\n\u001B[0;32m    677\u001B[0m \u001B[38;5;28;01mif\u001B[39;00m \u001B[38;5;28misinstance\u001B[39m(tensors, tf\u001B[38;5;241m.\u001B[39mdistribute\u001B[38;5;241m.\u001B[39mexperimental\u001B[38;5;241m.\u001B[39mcoordinator\u001B[38;5;241m.\u001B[39mRemoteValue):\n\u001B[0;32m    678\u001B[0m     tensors \u001B[38;5;241m=\u001B[39m tensors\u001B[38;5;241m.\u001B[39mfetch()\n\u001B[0;32m    679\u001B[0m \u001B[38;5;28;01mif\u001B[39;00m \u001B[38;5;28misinstance\u001B[39m(tensors, \u001B[38;5;28mlist\u001B[39m) \u001B[38;5;129;01mand\u001B[39;00m \u001B[38;5;28misinstance\u001B[39m(\n\u001B[1;32m--> 680\u001B[0m     \u001B[43mtensors\u001B[49m\u001B[43m[\u001B[49m\u001B[38;5;241;43m0\u001B[39;49m\u001B[43m]\u001B[49m, tf\u001B[38;5;241m.\u001B[39mdistribute\u001B[38;5;241m.\u001B[39mexperimental\u001B[38;5;241m.\u001B[39mcoordinator\u001B[38;5;241m.\u001B[39mRemoteValue\n\u001B[0;32m    681\u001B[0m ):\n\u001B[0;32m    682\u001B[0m     tensors \u001B[38;5;241m=\u001B[39m tf\u001B[38;5;241m.\u001B[39mnest\u001B[38;5;241m.\u001B[39mmap_structure(\u001B[38;5;28;01mlambda\u001B[39;00m t: t\u001B[38;5;241m.\u001B[39mfetch(), tensors)\n\u001B[0;32m    684\u001B[0m \u001B[38;5;28;01mdef\u001B[39;00m \u001B[38;5;21m_to_single_numpy_or_python_type\u001B[39m(t):\n\u001B[0;32m    685\u001B[0m     \u001B[38;5;66;03m# Don't turn ragged or sparse tensors to NumPy.\u001B[39;00m\n",
      "\u001B[1;31mIndexError\u001B[0m: list index out of range"
     ]
    }
   ],
   "source": [
    "from sklearn.preprocessing import MinMaxScaler\n",
    "\n",
    "model = keras.models.load_model('convnet_pretrained_augmentation.tf')\n",
    "\n",
    "layer_output = []\n",
    "layer_names = []\n",
    "for layer in model.layers:\n",
    "    if isinstance(layer, (layers.Conv2D, layers.MaxPooling2D)):\n",
    "        layer_output.append(layer.output)\n",
    "        layer_names.append(layer.name)\n",
    "        \n",
    "activation_model = keras.Model(inputs=model.input, outputs=layer_output)\n",
    "\n",
    "img_path = Image.open(\"dataset/test/picasso/1468.jpg\")\n",
    "img_path = np.reshape(img_path, (412, 550, 3))\n",
    "img_path = np.expand_dims(img_path, axis=0)\n",
    "\n",
    "# img_path , _ = get_features_and_labels(img_path, None)\n",
    "print(img_path.shape)\n",
    "activations = activation_model.predict(img_path)\n",
    "\n",
    "images_per_row = 4\n",
    "for layer_name, layer_activations in zip(layer_names, activations):\n",
    "    n_features = layer_activations.shape[-1]\n",
    "    height = layer_activations.shape[2]\n",
    "    width = layer_activations.shape[1]\n",
    "    n_cols = n_features // images_per_row\n",
    "    display_grid = np.zeros(((width + 1) * n_cols - 1, images_per_row * (height + 1) - 1))\n",
    "    \n",
    "    for col in range(n_cols):\n",
    "        for row in range(images_per_row):\n",
    "            chanal_index = col * images_per_row + row\n",
    "            channel_img = layer_activations[0, :, :, chanal_index].copy()\n",
    "            \n",
    "            if channel_img.sum() != 0:\n",
    "                channel_img -= channel_img.mean()\n",
    "                channel_img /= channel_img.std()\n",
    "                channel_img *= 64\n",
    "                channel_img += 128\n",
    "\n",
    "            channel_img = np.clip(channel_img, 0, 255).astype(np.uint8)\n",
    "\n",
    "            display_grid[\n",
    "                col * (width + 1) : (col + 1) * width + col, \n",
    "                row * (height + 1) : (row + 1) * height + row\n",
    "            ] = channel_img\n",
    "\n",
    "    scale_width = 1.0 / width\n",
    "    scale_height = 1.0 / height\n",
    "    plt.figure(figsize=(scale_height * display_grid.shape[1],scale_width * display_grid.shape[0]))\n",
    "    plt.title(layer_name)\n",
    "    plt.grid(False)\n",
    "    plt.imshow(display_grid, aspect='auto', cmap='viridis')\n"
   ],
   "id": "f411f234a6a5a9b4",
   "execution_count": 59
  },
  {
   "metadata": {
    "ExecuteTime": {
     "end_time": "2024-02-04T16:09:30.289045500Z",
     "start_time": "2024-02-04T16:09:30.289045500Z"
    }
   },
   "cell_type": "code",
   "outputs": [],
   "source": [
    "cwd = os.getcwd()\n",
    "dir_test_rubens = \"dataset/test/rubens\"\n",
    "dir_test_picasso= \"dataset/test/picasso\"\n",
    "file_test_rubens = os.listdir(dir_test_rubens)\n",
    "file_test_picasso = os.listdir(dir_test_picasso)\n",
    "\n",
    "test_rubens = [Image.open(os.path.join(dir_test_rubens, file)) for file in file_validation_rubens]\n",
    "test_picasso = [Image.open(os.path.join(dir_test_picasso, file)) for file in file_test_picasso]\n",
    "\n",
    "test_set, test_labels = mix(test_rubens, test_picasso)\n",
    "\n",
    "test_set = test_set.reshape(len(test_set), 412, 550, 3)\n",
    "\n",
    "test_model = keras.models.load_model('convnet_pretrained_augmentation.tf')\n",
    "test_loss, test_acc = test_model.evaluate(test_set, test_labels)\n",
    "print('Test loss:', test_loss)"
   ],
   "id": "2fa430b79ce02f51",
   "execution_count": null
  }
 ],
 "metadata": {
  "kernelspec": {
   "display_name": "Python 3",
   "language": "python",
   "name": "python3"
  },
  "language_info": {
   "codemirror_mode": {
    "name": "ipython",
    "version": 2
   },
   "file_extension": ".py",
   "mimetype": "text/x-python",
   "name": "python",
   "nbconvert_exporter": "python",
   "pygments_lexer": "ipython2",
   "version": "2.7.6"
  }
 },
 "nbformat": 4,
 "nbformat_minor": 5
}
