{
 "cells": [
  {
   "metadata": {
    "ExecuteTime": {
     "end_time": "2024-02-04T11:44:29.848099100Z",
     "start_time": "2024-02-04T11:44:29.845592200Z"
    }
   },
   "cell_type": "code",
   "outputs": [],
   "source": [
    "from tensorflow import keras\n",
    "from tensorflow.keras import layers\n",
    "import numpy as np\n",
    "import cv2\n",
    "from PIL import Image\n",
    "import os\n",
    "import matplotlib.pyplot as plt"
   ],
   "id": "fffea8e4dc886fb4",
   "execution_count": 22
  },
  {
   "cell_type": "code",
   "id": "initial_id",
   "metadata": {
    "collapsed": true,
    "ExecuteTime": {
     "end_time": "2024-02-04T11:44:29.851703400Z",
     "start_time": "2024-02-04T11:44:29.850196400Z"
    }
   },
   "outputs": [],
   "source": [
    "# 2 painters simple convnet"
   ],
   "execution_count": 23
  },
  {
   "metadata": {
    "ExecuteTime": {
     "end_time": "2024-02-04T11:44:30.150676200Z",
     "start_time": "2024-02-04T11:44:29.852703400Z"
    }
   },
   "cell_type": "code",
   "outputs": [],
   "source": [
    "conv_base = keras.applications.vgg16.VGG16(\n",
    "    weights='imagenet',\n",
    "    include_top=False,\n",
    "    input_shape=(412, 550, 3)\n",
    ")\n",
    "\n",
    "conv_base.trainable = True\n",
    "for layer in conv_base.layers[:-2]:\n",
    "    layer.trainable = False\n",
    "\n",
    "data_augmentation = keras.Sequential([\n",
    "    # layers.RandomCrop(412, 550),\n",
    "    layers.RandomZoom(0.2),\n",
    "    layers.RandomRotation(0.2),\n",
    "    layers.RandomContrast(.1),\n",
    "    layers.RandomFlip(\"horizontal_and_vertical\")\n",
    "])\n",
    "\n",
    "\n",
    "def create_simpleconvnet():\n",
    "    inputs = keras.Input(shape=(412, 550, 3))\n",
    "    x = data_augmentation(inputs)\n",
    "    x = keras.applications.vgg16.preprocess_input(x)\n",
    "    x = conv_base(x)\n",
    "    x = layers.Flatten()(x)\n",
    "    x = layers.Dense(256)(x)\n",
    "    x = layers.Dropout(0.5)(x)\n",
    "    outputs = layers.Dense(2, activation='softmax')(x)\n",
    "    model = keras.Model(inputs=inputs, outputs=outputs)\n",
    "\n",
    "    model.compile(loss=\"categorical_crossentropy\",optimizer=keras.optimizers.Adam(learning_rate=1e-6), metrics=[\"accuracy\"])\n",
    "\n",
    "    model.summary()\n",
    "\n",
    "    return model"
   ],
   "id": "a3a9517a8875345",
   "execution_count": 24
  },
  {
   "metadata": {
    "ExecuteTime": {
     "end_time": "2024-02-04T11:44:30.388714800Z",
     "start_time": "2024-02-04T11:44:30.140165300Z"
    }
   },
   "cell_type": "code",
   "outputs": [
    {
     "name": "stdout",
     "output_type": "stream",
     "text": [
      "Model: \"model_6\"\n",
      "_________________________________________________________________\n",
      " Layer (type)                Output Shape              Param #   \n",
      "=================================================================\n",
      " input_8 (InputLayer)        [(None, 412, 550, 3)]     0         \n",
      "                                                                 \n",
      " sequential_3 (Sequential)   (None, 412, 550, 3)       0         \n",
      "                                                                 \n",
      " tf.__operators__.getitem_3  (None, 412, 550, 3)       0         \n",
      "  (SlicingOpLambda)                                              \n",
      "                                                                 \n",
      " tf.nn.bias_add_3 (TFOpLamb  (None, 412, 550, 3)       0         \n",
      " da)                                                             \n",
      "                                                                 \n",
      " vgg16 (Functional)          (None, 12, 17, 512)       14714688  \n",
      "                                                                 \n",
      " flatten_3 (Flatten)         (None, 104448)            0         \n",
      "                                                                 \n",
      " dense_6 (Dense)             (None, 256)               26738944  \n",
      "                                                                 \n",
      " dropout_3 (Dropout)         (None, 256)               0         \n",
      "                                                                 \n",
      " dense_7 (Dense)             (None, 2)                 514       \n",
      "                                                                 \n",
      "=================================================================\n",
      "Total params: 41454146 (158.14 MB)\n",
      "Trainable params: 29099266 (111.00 MB)\n",
      "Non-trainable params: 12354880 (47.13 MB)\n",
      "_________________________________________________________________\n"
     ]
    }
   ],
   "source": [
    "model = create_simpleconvnet()"
   ],
   "id": "c61ef4ce41033146",
   "execution_count": 25
  },
  {
   "metadata": {
    "ExecuteTime": {
     "end_time": "2024-02-04T11:44:30.392756500Z",
     "start_time": "2024-02-04T11:44:30.387095Z"
    }
   },
   "cell_type": "code",
   "outputs": [],
   "source": [
    "#mix arrays per n elements\n",
    "\n",
    "def mix(elements1:[], elements2:[], n=5):\n",
    "    objects_set = []\n",
    "    labels_set = []\n",
    "    i = 0\n",
    "    while i < len(elements1) and i < len(elements2):\n",
    "            objects_set.append(np.reshape(elements1[i], (412, 550, 3)))\n",
    "            labels_set.append([1, 0])\n",
    "    \n",
    "            objects_set.append(np.reshape(elements2[i], (412, 550, 3)))\n",
    "            labels_set.append([0, 1])\n",
    "            \n",
    "            i+=1\n",
    "            \n",
    "    return np.array(objects_set), np.array(labels_set)\n",
    "    "
   ],
   "id": "2ab2e31c4109aa47",
   "execution_count": 26
  },
  {
   "metadata": {
    "ExecuteTime": {
     "end_time": "2024-02-04T12:19:02.100016300Z",
     "start_time": "2024-02-04T11:44:30.391749800Z"
    }
   },
   "cell_type": "code",
   "outputs": [
    {
     "name": "stdout",
     "output_type": "stream",
     "text": [
      "Epoch 1/50\n",
      "6/6 [==============================] - ETA: 0s - loss: 7.2046 - accuracy: 0.5118INFO:tensorflow:Assets written to: convnet_pretrained_augmentation.tf\\assets\n"
     ]
    },
    {
     "name": "stderr",
     "output_type": "stream",
     "text": [
      "INFO:tensorflow:Assets written to: convnet_pretrained_augmentation.tf\\assets\n"
     ]
    },
    {
     "name": "stdout",
     "output_type": "stream",
     "text": [
      "6/6 [==============================] - 42s 7s/step - loss: 7.2046 - accuracy: 0.5118 - val_loss: 5.0398 - val_accuracy: 0.6200\n",
      "Epoch 2/50\n",
      "6/6 [==============================] - ETA: 0s - loss: 5.4063 - accuracy: 0.6118INFO:tensorflow:Assets written to: convnet_pretrained_augmentation.tf\\assets\n"
     ]
    },
    {
     "name": "stderr",
     "output_type": "stream",
     "text": [
      "INFO:tensorflow:Assets written to: convnet_pretrained_augmentation.tf\\assets\n"
     ]
    },
    {
     "name": "stdout",
     "output_type": "stream",
     "text": [
      "6/6 [==============================] - 41s 7s/step - loss: 5.4063 - accuracy: 0.6118 - val_loss: 4.1010 - val_accuracy: 0.6650\n",
      "Epoch 3/50\n",
      "6/6 [==============================] - ETA: 0s - loss: 5.2962 - accuracy: 0.5824INFO:tensorflow:Assets written to: convnet_pretrained_augmentation.tf\\assets\n"
     ]
    },
    {
     "name": "stderr",
     "output_type": "stream",
     "text": [
      "INFO:tensorflow:Assets written to: convnet_pretrained_augmentation.tf\\assets\n"
     ]
    },
    {
     "name": "stdout",
     "output_type": "stream",
     "text": [
      "6/6 [==============================] - 41s 7s/step - loss: 5.2962 - accuracy: 0.5824 - val_loss: 3.4106 - val_accuracy: 0.6900\n",
      "Epoch 4/50\n",
      "6/6 [==============================] - ETA: 0s - loss: 4.7838 - accuracy: 0.6647INFO:tensorflow:Assets written to: convnet_pretrained_augmentation.tf\\assets\n"
     ]
    },
    {
     "name": "stderr",
     "output_type": "stream",
     "text": [
      "INFO:tensorflow:Assets written to: convnet_pretrained_augmentation.tf\\assets\n"
     ]
    },
    {
     "name": "stdout",
     "output_type": "stream",
     "text": [
      "6/6 [==============================] - 41s 7s/step - loss: 4.7838 - accuracy: 0.6647 - val_loss: 2.8898 - val_accuracy: 0.7100\n",
      "Epoch 5/50\n",
      "6/6 [==============================] - ETA: 0s - loss: 4.1214 - accuracy: 0.6471INFO:tensorflow:Assets written to: convnet_pretrained_augmentation.tf\\assets\n"
     ]
    },
    {
     "name": "stderr",
     "output_type": "stream",
     "text": [
      "INFO:tensorflow:Assets written to: convnet_pretrained_augmentation.tf\\assets\n"
     ]
    },
    {
     "name": "stdout",
     "output_type": "stream",
     "text": [
      "6/6 [==============================] - 41s 7s/step - loss: 4.1214 - accuracy: 0.6471 - val_loss: 2.4426 - val_accuracy: 0.7350\n",
      "Epoch 6/50\n",
      "6/6 [==============================] - ETA: 0s - loss: 3.9129 - accuracy: 0.7176INFO:tensorflow:Assets written to: convnet_pretrained_augmentation.tf\\assets\n"
     ]
    },
    {
     "name": "stderr",
     "output_type": "stream",
     "text": [
      "INFO:tensorflow:Assets written to: convnet_pretrained_augmentation.tf\\assets\n"
     ]
    },
    {
     "name": "stdout",
     "output_type": "stream",
     "text": [
      "6/6 [==============================] - 41s 7s/step - loss: 3.9129 - accuracy: 0.7176 - val_loss: 2.1174 - val_accuracy: 0.7500\n",
      "Epoch 7/50\n",
      "6/6 [==============================] - ETA: 0s - loss: 5.3393 - accuracy: 0.6235INFO:tensorflow:Assets written to: convnet_pretrained_augmentation.tf\\assets\n"
     ]
    },
    {
     "name": "stderr",
     "output_type": "stream",
     "text": [
      "INFO:tensorflow:Assets written to: convnet_pretrained_augmentation.tf\\assets\n"
     ]
    },
    {
     "name": "stdout",
     "output_type": "stream",
     "text": [
      "6/6 [==============================] - 41s 7s/step - loss: 5.3393 - accuracy: 0.6235 - val_loss: 1.8533 - val_accuracy: 0.7850\n",
      "Epoch 8/50\n",
      "6/6 [==============================] - ETA: 0s - loss: 3.1704 - accuracy: 0.7118INFO:tensorflow:Assets written to: convnet_pretrained_augmentation.tf\\assets\n"
     ]
    },
    {
     "name": "stderr",
     "output_type": "stream",
     "text": [
      "INFO:tensorflow:Assets written to: convnet_pretrained_augmentation.tf\\assets\n"
     ]
    },
    {
     "name": "stdout",
     "output_type": "stream",
     "text": [
      "6/6 [==============================] - 41s 7s/step - loss: 3.1704 - accuracy: 0.7118 - val_loss: 1.7682 - val_accuracy: 0.8150\n",
      "Epoch 9/50\n",
      "6/6 [==============================] - ETA: 0s - loss: 3.4263 - accuracy: 0.7176INFO:tensorflow:Assets written to: convnet_pretrained_augmentation.tf\\assets\n"
     ]
    },
    {
     "name": "stderr",
     "output_type": "stream",
     "text": [
      "INFO:tensorflow:Assets written to: convnet_pretrained_augmentation.tf\\assets\n"
     ]
    },
    {
     "name": "stdout",
     "output_type": "stream",
     "text": [
      "6/6 [==============================] - 41s 7s/step - loss: 3.4263 - accuracy: 0.7176 - val_loss: 1.7059 - val_accuracy: 0.8250\n",
      "Epoch 10/50\n",
      "6/6 [==============================] - ETA: 0s - loss: 2.8480 - accuracy: 0.7529INFO:tensorflow:Assets written to: convnet_pretrained_augmentation.tf\\assets\n"
     ]
    },
    {
     "name": "stderr",
     "output_type": "stream",
     "text": [
      "INFO:tensorflow:Assets written to: convnet_pretrained_augmentation.tf\\assets\n"
     ]
    },
    {
     "name": "stdout",
     "output_type": "stream",
     "text": [
      "6/6 [==============================] - 41s 7s/step - loss: 2.8480 - accuracy: 0.7529 - val_loss: 1.5756 - val_accuracy: 0.8350\n",
      "Epoch 11/50\n",
      "6/6 [==============================] - ETA: 0s - loss: 2.9973 - accuracy: 0.7647INFO:tensorflow:Assets written to: convnet_pretrained_augmentation.tf\\assets\n"
     ]
    },
    {
     "name": "stderr",
     "output_type": "stream",
     "text": [
      "INFO:tensorflow:Assets written to: convnet_pretrained_augmentation.tf\\assets\n"
     ]
    },
    {
     "name": "stdout",
     "output_type": "stream",
     "text": [
      "6/6 [==============================] - 41s 7s/step - loss: 2.9973 - accuracy: 0.7647 - val_loss: 1.4316 - val_accuracy: 0.8500\n",
      "Epoch 12/50\n",
      "6/6 [==============================] - ETA: 0s - loss: 2.7432 - accuracy: 0.7882INFO:tensorflow:Assets written to: convnet_pretrained_augmentation.tf\\assets\n"
     ]
    },
    {
     "name": "stderr",
     "output_type": "stream",
     "text": [
      "INFO:tensorflow:Assets written to: convnet_pretrained_augmentation.tf\\assets\n"
     ]
    },
    {
     "name": "stdout",
     "output_type": "stream",
     "text": [
      "6/6 [==============================] - 41s 7s/step - loss: 2.7432 - accuracy: 0.7882 - val_loss: 1.2949 - val_accuracy: 0.8550\n",
      "Epoch 13/50\n",
      "6/6 [==============================] - ETA: 0s - loss: 2.1546 - accuracy: 0.8059INFO:tensorflow:Assets written to: convnet_pretrained_augmentation.tf\\assets\n"
     ]
    },
    {
     "name": "stderr",
     "output_type": "stream",
     "text": [
      "INFO:tensorflow:Assets written to: convnet_pretrained_augmentation.tf\\assets\n"
     ]
    },
    {
     "name": "stdout",
     "output_type": "stream",
     "text": [
      "6/6 [==============================] - 41s 7s/step - loss: 2.1546 - accuracy: 0.8059 - val_loss: 1.1973 - val_accuracy: 0.8550\n",
      "Epoch 14/50\n",
      "6/6 [==============================] - ETA: 0s - loss: 2.7285 - accuracy: 0.7471INFO:tensorflow:Assets written to: convnet_pretrained_augmentation.tf\\assets\n"
     ]
    },
    {
     "name": "stderr",
     "output_type": "stream",
     "text": [
      "INFO:tensorflow:Assets written to: convnet_pretrained_augmentation.tf\\assets\n"
     ]
    },
    {
     "name": "stdout",
     "output_type": "stream",
     "text": [
      "6/6 [==============================] - 41s 7s/step - loss: 2.7285 - accuracy: 0.7471 - val_loss: 1.1144 - val_accuracy: 0.8800\n",
      "Epoch 15/50\n",
      "6/6 [==============================] - ETA: 0s - loss: 2.3163 - accuracy: 0.8000INFO:tensorflow:Assets written to: convnet_pretrained_augmentation.tf\\assets\n"
     ]
    },
    {
     "name": "stderr",
     "output_type": "stream",
     "text": [
      "INFO:tensorflow:Assets written to: convnet_pretrained_augmentation.tf\\assets\n"
     ]
    },
    {
     "name": "stdout",
     "output_type": "stream",
     "text": [
      "6/6 [==============================] - 41s 7s/step - loss: 2.3163 - accuracy: 0.8000 - val_loss: 1.0459 - val_accuracy: 0.8800\n",
      "Epoch 16/50\n",
      "6/6 [==============================] - ETA: 0s - loss: 2.5289 - accuracy: 0.8059INFO:tensorflow:Assets written to: convnet_pretrained_augmentation.tf\\assets\n"
     ]
    },
    {
     "name": "stderr",
     "output_type": "stream",
     "text": [
      "INFO:tensorflow:Assets written to: convnet_pretrained_augmentation.tf\\assets\n"
     ]
    },
    {
     "name": "stdout",
     "output_type": "stream",
     "text": [
      "6/6 [==============================] - 41s 7s/step - loss: 2.5289 - accuracy: 0.8059 - val_loss: 0.9879 - val_accuracy: 0.8850\n",
      "Epoch 17/50\n",
      "6/6 [==============================] - ETA: 0s - loss: 2.2061 - accuracy: 0.8588INFO:tensorflow:Assets written to: convnet_pretrained_augmentation.tf\\assets\n"
     ]
    },
    {
     "name": "stderr",
     "output_type": "stream",
     "text": [
      "INFO:tensorflow:Assets written to: convnet_pretrained_augmentation.tf\\assets\n"
     ]
    },
    {
     "name": "stdout",
     "output_type": "stream",
     "text": [
      "6/6 [==============================] - 41s 7s/step - loss: 2.2061 - accuracy: 0.8588 - val_loss: 0.9420 - val_accuracy: 0.8900\n",
      "Epoch 18/50\n",
      "6/6 [==============================] - ETA: 0s - loss: 2.3696 - accuracy: 0.8000INFO:tensorflow:Assets written to: convnet_pretrained_augmentation.tf\\assets\n"
     ]
    },
    {
     "name": "stderr",
     "output_type": "stream",
     "text": [
      "INFO:tensorflow:Assets written to: convnet_pretrained_augmentation.tf\\assets\n"
     ]
    },
    {
     "name": "stdout",
     "output_type": "stream",
     "text": [
      "6/6 [==============================] - 41s 7s/step - loss: 2.3696 - accuracy: 0.8000 - val_loss: 0.9175 - val_accuracy: 0.9100\n",
      "Epoch 19/50\n",
      "6/6 [==============================] - ETA: 0s - loss: 1.5864 - accuracy: 0.8588INFO:tensorflow:Assets written to: convnet_pretrained_augmentation.tf\\assets\n"
     ]
    },
    {
     "name": "stderr",
     "output_type": "stream",
     "text": [
      "INFO:tensorflow:Assets written to: convnet_pretrained_augmentation.tf\\assets\n"
     ]
    },
    {
     "name": "stdout",
     "output_type": "stream",
     "text": [
      "6/6 [==============================] - 41s 7s/step - loss: 1.5864 - accuracy: 0.8588 - val_loss: 0.8918 - val_accuracy: 0.9100\n",
      "Epoch 20/50\n",
      "6/6 [==============================] - ETA: 0s - loss: 1.7856 - accuracy: 0.8588INFO:tensorflow:Assets written to: convnet_pretrained_augmentation.tf\\assets\n"
     ]
    },
    {
     "name": "stderr",
     "output_type": "stream",
     "text": [
      "INFO:tensorflow:Assets written to: convnet_pretrained_augmentation.tf\\assets\n"
     ]
    },
    {
     "name": "stdout",
     "output_type": "stream",
     "text": [
      "6/6 [==============================] - 41s 7s/step - loss: 1.7856 - accuracy: 0.8588 - val_loss: 0.8620 - val_accuracy: 0.9100\n",
      "Epoch 21/50\n",
      "6/6 [==============================] - ETA: 0s - loss: 1.7677 - accuracy: 0.8294INFO:tensorflow:Assets written to: convnet_pretrained_augmentation.tf\\assets\n"
     ]
    },
    {
     "name": "stderr",
     "output_type": "stream",
     "text": [
      "INFO:tensorflow:Assets written to: convnet_pretrained_augmentation.tf\\assets\n"
     ]
    },
    {
     "name": "stdout",
     "output_type": "stream",
     "text": [
      "6/6 [==============================] - 41s 7s/step - loss: 1.7677 - accuracy: 0.8294 - val_loss: 0.8371 - val_accuracy: 0.9200\n",
      "Epoch 22/50\n",
      "6/6 [==============================] - ETA: 0s - loss: 3.0625 - accuracy: 0.8059INFO:tensorflow:Assets written to: convnet_pretrained_augmentation.tf\\assets\n"
     ]
    },
    {
     "name": "stderr",
     "output_type": "stream",
     "text": [
      "INFO:tensorflow:Assets written to: convnet_pretrained_augmentation.tf\\assets\n"
     ]
    },
    {
     "name": "stdout",
     "output_type": "stream",
     "text": [
      "6/6 [==============================] - 41s 7s/step - loss: 3.0625 - accuracy: 0.8059 - val_loss: 0.8174 - val_accuracy: 0.9200\n",
      "Epoch 23/50\n",
      "6/6 [==============================] - ETA: 0s - loss: 1.9132 - accuracy: 0.8647INFO:tensorflow:Assets written to: convnet_pretrained_augmentation.tf\\assets\n"
     ]
    },
    {
     "name": "stderr",
     "output_type": "stream",
     "text": [
      "INFO:tensorflow:Assets written to: convnet_pretrained_augmentation.tf\\assets\n"
     ]
    },
    {
     "name": "stdout",
     "output_type": "stream",
     "text": [
      "6/6 [==============================] - 41s 7s/step - loss: 1.9132 - accuracy: 0.8647 - val_loss: 0.8055 - val_accuracy: 0.9250\n",
      "Epoch 24/50\n",
      "6/6 [==============================] - ETA: 0s - loss: 2.6145 - accuracy: 0.8000INFO:tensorflow:Assets written to: convnet_pretrained_augmentation.tf\\assets\n"
     ]
    },
    {
     "name": "stderr",
     "output_type": "stream",
     "text": [
      "INFO:tensorflow:Assets written to: convnet_pretrained_augmentation.tf\\assets\n"
     ]
    },
    {
     "name": "stdout",
     "output_type": "stream",
     "text": [
      "6/6 [==============================] - 41s 7s/step - loss: 2.6145 - accuracy: 0.8000 - val_loss: 0.7934 - val_accuracy: 0.9250\n",
      "Epoch 25/50\n",
      "6/6 [==============================] - ETA: 0s - loss: 2.0483 - accuracy: 0.8647INFO:tensorflow:Assets written to: convnet_pretrained_augmentation.tf\\assets\n"
     ]
    },
    {
     "name": "stderr",
     "output_type": "stream",
     "text": [
      "INFO:tensorflow:Assets written to: convnet_pretrained_augmentation.tf\\assets\n"
     ]
    },
    {
     "name": "stdout",
     "output_type": "stream",
     "text": [
      "6/6 [==============================] - 41s 8s/step - loss: 2.0483 - accuracy: 0.8647 - val_loss: 0.7782 - val_accuracy: 0.9250\n",
      "Epoch 26/50\n",
      "6/6 [==============================] - ETA: 0s - loss: 1.3406 - accuracy: 0.8588INFO:tensorflow:Assets written to: convnet_pretrained_augmentation.tf\\assets\n"
     ]
    },
    {
     "name": "stderr",
     "output_type": "stream",
     "text": [
      "INFO:tensorflow:Assets written to: convnet_pretrained_augmentation.tf\\assets\n"
     ]
    },
    {
     "name": "stdout",
     "output_type": "stream",
     "text": [
      "6/6 [==============================] - 41s 7s/step - loss: 1.3406 - accuracy: 0.8588 - val_loss: 0.7662 - val_accuracy: 0.9250\n",
      "Epoch 27/50\n",
      "6/6 [==============================] - ETA: 0s - loss: 1.2015 - accuracy: 0.8706INFO:tensorflow:Assets written to: convnet_pretrained_augmentation.tf\\assets\n"
     ]
    },
    {
     "name": "stderr",
     "output_type": "stream",
     "text": [
      "INFO:tensorflow:Assets written to: convnet_pretrained_augmentation.tf\\assets\n"
     ]
    },
    {
     "name": "stdout",
     "output_type": "stream",
     "text": [
      "6/6 [==============================] - 42s 8s/step - loss: 1.2015 - accuracy: 0.8706 - val_loss: 0.7577 - val_accuracy: 0.9250\n",
      "Epoch 28/50\n",
      "6/6 [==============================] - ETA: 0s - loss: 1.0551 - accuracy: 0.9118INFO:tensorflow:Assets written to: convnet_pretrained_augmentation.tf\\assets\n"
     ]
    },
    {
     "name": "stderr",
     "output_type": "stream",
     "text": [
      "INFO:tensorflow:Assets written to: convnet_pretrained_augmentation.tf\\assets\n"
     ]
    },
    {
     "name": "stdout",
     "output_type": "stream",
     "text": [
      "6/6 [==============================] - 41s 7s/step - loss: 1.0551 - accuracy: 0.9118 - val_loss: 0.7506 - val_accuracy: 0.9250\n",
      "Epoch 29/50\n",
      "6/6 [==============================] - ETA: 0s - loss: 1.2065 - accuracy: 0.9059INFO:tensorflow:Assets written to: convnet_pretrained_augmentation.tf\\assets\n"
     ]
    },
    {
     "name": "stderr",
     "output_type": "stream",
     "text": [
      "INFO:tensorflow:Assets written to: convnet_pretrained_augmentation.tf\\assets\n"
     ]
    },
    {
     "name": "stdout",
     "output_type": "stream",
     "text": [
      "6/6 [==============================] - 41s 8s/step - loss: 1.2065 - accuracy: 0.9059 - val_loss: 0.7428 - val_accuracy: 0.9250\n",
      "Epoch 30/50\n",
      "6/6 [==============================] - ETA: 0s - loss: 1.4602 - accuracy: 0.8765INFO:tensorflow:Assets written to: convnet_pretrained_augmentation.tf\\assets\n"
     ]
    },
    {
     "name": "stderr",
     "output_type": "stream",
     "text": [
      "INFO:tensorflow:Assets written to: convnet_pretrained_augmentation.tf\\assets\n"
     ]
    },
    {
     "name": "stdout",
     "output_type": "stream",
     "text": [
      "6/6 [==============================] - 42s 8s/step - loss: 1.4602 - accuracy: 0.8765 - val_loss: 0.7354 - val_accuracy: 0.9250\n",
      "Epoch 31/50\n",
      "6/6 [==============================] - ETA: 0s - loss: 1.1390 - accuracy: 0.8941INFO:tensorflow:Assets written to: convnet_pretrained_augmentation.tf\\assets\n"
     ]
    },
    {
     "name": "stderr",
     "output_type": "stream",
     "text": [
      "INFO:tensorflow:Assets written to: convnet_pretrained_augmentation.tf\\assets\n"
     ]
    },
    {
     "name": "stdout",
     "output_type": "stream",
     "text": [
      "6/6 [==============================] - 42s 8s/step - loss: 1.1390 - accuracy: 0.8941 - val_loss: 0.7272 - val_accuracy: 0.9250\n",
      "Epoch 32/50\n",
      "6/6 [==============================] - ETA: 0s - loss: 1.1636 - accuracy: 0.8706INFO:tensorflow:Assets written to: convnet_pretrained_augmentation.tf\\assets\n"
     ]
    },
    {
     "name": "stderr",
     "output_type": "stream",
     "text": [
      "INFO:tensorflow:Assets written to: convnet_pretrained_augmentation.tf\\assets\n"
     ]
    },
    {
     "name": "stdout",
     "output_type": "stream",
     "text": [
      "6/6 [==============================] - 41s 7s/step - loss: 1.1636 - accuracy: 0.8706 - val_loss: 0.7170 - val_accuracy: 0.9250\n",
      "Epoch 33/50\n",
      "6/6 [==============================] - ETA: 0s - loss: 1.1617 - accuracy: 0.8588INFO:tensorflow:Assets written to: convnet_pretrained_augmentation.tf\\assets\n"
     ]
    },
    {
     "name": "stderr",
     "output_type": "stream",
     "text": [
      "INFO:tensorflow:Assets written to: convnet_pretrained_augmentation.tf\\assets\n"
     ]
    },
    {
     "name": "stdout",
     "output_type": "stream",
     "text": [
      "6/6 [==============================] - 43s 8s/step - loss: 1.1617 - accuracy: 0.8588 - val_loss: 0.7103 - val_accuracy: 0.9250\n",
      "Epoch 34/50\n",
      "6/6 [==============================] - ETA: 0s - loss: 1.6963 - accuracy: 0.8353INFO:tensorflow:Assets written to: convnet_pretrained_augmentation.tf\\assets\n"
     ]
    },
    {
     "name": "stderr",
     "output_type": "stream",
     "text": [
      "INFO:tensorflow:Assets written to: convnet_pretrained_augmentation.tf\\assets\n"
     ]
    },
    {
     "name": "stdout",
     "output_type": "stream",
     "text": [
      "6/6 [==============================] - 43s 8s/step - loss: 1.6963 - accuracy: 0.8353 - val_loss: 0.7028 - val_accuracy: 0.9200\n",
      "Epoch 35/50\n",
      "6/6 [==============================] - ETA: 0s - loss: 0.9972 - accuracy: 0.9000INFO:tensorflow:Assets written to: convnet_pretrained_augmentation.tf\\assets\n"
     ]
    },
    {
     "name": "stderr",
     "output_type": "stream",
     "text": [
      "INFO:tensorflow:Assets written to: convnet_pretrained_augmentation.tf\\assets\n"
     ]
    },
    {
     "name": "stdout",
     "output_type": "stream",
     "text": [
      "6/6 [==============================] - 42s 8s/step - loss: 0.9972 - accuracy: 0.9000 - val_loss: 0.6958 - val_accuracy: 0.9200\n",
      "Epoch 36/50\n",
      "6/6 [==============================] - ETA: 0s - loss: 2.1009 - accuracy: 0.8235INFO:tensorflow:Assets written to: convnet_pretrained_augmentation.tf\\assets\n"
     ]
    },
    {
     "name": "stderr",
     "output_type": "stream",
     "text": [
      "INFO:tensorflow:Assets written to: convnet_pretrained_augmentation.tf\\assets\n"
     ]
    },
    {
     "name": "stdout",
     "output_type": "stream",
     "text": [
      "6/6 [==============================] - 42s 8s/step - loss: 2.1009 - accuracy: 0.8235 - val_loss: 0.6851 - val_accuracy: 0.9200\n",
      "Epoch 37/50\n",
      "6/6 [==============================] - ETA: 0s - loss: 1.2287 - accuracy: 0.8706INFO:tensorflow:Assets written to: convnet_pretrained_augmentation.tf\\assets\n"
     ]
    },
    {
     "name": "stderr",
     "output_type": "stream",
     "text": [
      "INFO:tensorflow:Assets written to: convnet_pretrained_augmentation.tf\\assets\n"
     ]
    },
    {
     "name": "stdout",
     "output_type": "stream",
     "text": [
      "6/6 [==============================] - 41s 7s/step - loss: 1.2287 - accuracy: 0.8706 - val_loss: 0.6724 - val_accuracy: 0.9200\n",
      "Epoch 38/50\n",
      "6/6 [==============================] - ETA: 0s - loss: 1.0025 - accuracy: 0.9000INFO:tensorflow:Assets written to: convnet_pretrained_augmentation.tf\\assets\n"
     ]
    },
    {
     "name": "stderr",
     "output_type": "stream",
     "text": [
      "INFO:tensorflow:Assets written to: convnet_pretrained_augmentation.tf\\assets\n"
     ]
    },
    {
     "name": "stdout",
     "output_type": "stream",
     "text": [
      "6/6 [==============================] - 42s 8s/step - loss: 1.0025 - accuracy: 0.9000 - val_loss: 0.6638 - val_accuracy: 0.9200\n",
      "Epoch 39/50\n",
      "6/6 [==============================] - ETA: 0s - loss: 1.5771 - accuracy: 0.8765INFO:tensorflow:Assets written to: convnet_pretrained_augmentation.tf\\assets\n"
     ]
    },
    {
     "name": "stderr",
     "output_type": "stream",
     "text": [
      "INFO:tensorflow:Assets written to: convnet_pretrained_augmentation.tf\\assets\n"
     ]
    },
    {
     "name": "stdout",
     "output_type": "stream",
     "text": [
      "6/6 [==============================] - 43s 8s/step - loss: 1.5771 - accuracy: 0.8765 - val_loss: 0.6554 - val_accuracy: 0.9200\n",
      "Epoch 40/50\n",
      "6/6 [==============================] - ETA: 0s - loss: 0.9640 - accuracy: 0.9000INFO:tensorflow:Assets written to: convnet_pretrained_augmentation.tf\\assets\n"
     ]
    },
    {
     "name": "stderr",
     "output_type": "stream",
     "text": [
      "INFO:tensorflow:Assets written to: convnet_pretrained_augmentation.tf\\assets\n"
     ]
    },
    {
     "name": "stdout",
     "output_type": "stream",
     "text": [
      "6/6 [==============================] - 43s 8s/step - loss: 0.9640 - accuracy: 0.9000 - val_loss: 0.6482 - val_accuracy: 0.9200\n",
      "Epoch 41/50\n",
      "6/6 [==============================] - ETA: 0s - loss: 0.8720 - accuracy: 0.9059INFO:tensorflow:Assets written to: convnet_pretrained_augmentation.tf\\assets\n"
     ]
    },
    {
     "name": "stderr",
     "output_type": "stream",
     "text": [
      "INFO:tensorflow:Assets written to: convnet_pretrained_augmentation.tf\\assets\n"
     ]
    },
    {
     "name": "stdout",
     "output_type": "stream",
     "text": [
      "6/6 [==============================] - 43s 8s/step - loss: 0.8720 - accuracy: 0.9059 - val_loss: 0.6386 - val_accuracy: 0.9200\n",
      "Epoch 42/50\n",
      "6/6 [==============================] - ETA: 0s - loss: 1.4776 - accuracy: 0.8941INFO:tensorflow:Assets written to: convnet_pretrained_augmentation.tf\\assets\n"
     ]
    },
    {
     "name": "stderr",
     "output_type": "stream",
     "text": [
      "INFO:tensorflow:Assets written to: convnet_pretrained_augmentation.tf\\assets\n"
     ]
    },
    {
     "name": "stdout",
     "output_type": "stream",
     "text": [
      "6/6 [==============================] - 42s 8s/step - loss: 1.4776 - accuracy: 0.8941 - val_loss: 0.6311 - val_accuracy: 0.9250\n",
      "Epoch 43/50\n",
      "6/6 [==============================] - ETA: 0s - loss: 1.3523 - accuracy: 0.9059INFO:tensorflow:Assets written to: convnet_pretrained_augmentation.tf\\assets\n"
     ]
    },
    {
     "name": "stderr",
     "output_type": "stream",
     "text": [
      "INFO:tensorflow:Assets written to: convnet_pretrained_augmentation.tf\\assets\n"
     ]
    },
    {
     "name": "stdout",
     "output_type": "stream",
     "text": [
      "6/6 [==============================] - 42s 8s/step - loss: 1.3523 - accuracy: 0.9059 - val_loss: 0.6229 - val_accuracy: 0.9250\n",
      "Epoch 44/50\n",
      "6/6 [==============================] - ETA: 0s - loss: 0.9697 - accuracy: 0.8941INFO:tensorflow:Assets written to: convnet_pretrained_augmentation.tf\\assets\n"
     ]
    },
    {
     "name": "stderr",
     "output_type": "stream",
     "text": [
      "INFO:tensorflow:Assets written to: convnet_pretrained_augmentation.tf\\assets\n"
     ]
    },
    {
     "name": "stdout",
     "output_type": "stream",
     "text": [
      "6/6 [==============================] - 42s 8s/step - loss: 0.9697 - accuracy: 0.8941 - val_loss: 0.6147 - val_accuracy: 0.9250\n",
      "Epoch 45/50\n",
      "6/6 [==============================] - ETA: 0s - loss: 1.0041 - accuracy: 0.9000INFO:tensorflow:Assets written to: convnet_pretrained_augmentation.tf\\assets\n"
     ]
    },
    {
     "name": "stderr",
     "output_type": "stream",
     "text": [
      "INFO:tensorflow:Assets written to: convnet_pretrained_augmentation.tf\\assets\n"
     ]
    },
    {
     "name": "stdout",
     "output_type": "stream",
     "text": [
      "6/6 [==============================] - 42s 8s/step - loss: 1.0041 - accuracy: 0.9000 - val_loss: 0.6032 - val_accuracy: 0.9250\n",
      "Epoch 46/50\n",
      "6/6 [==============================] - ETA: 0s - loss: 0.8588 - accuracy: 0.9412INFO:tensorflow:Assets written to: convnet_pretrained_augmentation.tf\\assets\n"
     ]
    },
    {
     "name": "stderr",
     "output_type": "stream",
     "text": [
      "INFO:tensorflow:Assets written to: convnet_pretrained_augmentation.tf\\assets\n"
     ]
    },
    {
     "name": "stdout",
     "output_type": "stream",
     "text": [
      "6/6 [==============================] - 42s 8s/step - loss: 0.8588 - accuracy: 0.9412 - val_loss: 0.5966 - val_accuracy: 0.9300\n",
      "Epoch 47/50\n",
      "6/6 [==============================] - ETA: 0s - loss: 1.0060 - accuracy: 0.9059INFO:tensorflow:Assets written to: convnet_pretrained_augmentation.tf\\assets\n"
     ]
    },
    {
     "name": "stderr",
     "output_type": "stream",
     "text": [
      "INFO:tensorflow:Assets written to: convnet_pretrained_augmentation.tf\\assets\n"
     ]
    },
    {
     "name": "stdout",
     "output_type": "stream",
     "text": [
      "6/6 [==============================] - 42s 8s/step - loss: 1.0060 - accuracy: 0.9059 - val_loss: 0.5876 - val_accuracy: 0.9300\n",
      "Epoch 48/50\n",
      "6/6 [==============================] - ETA: 0s - loss: 0.8980 - accuracy: 0.9176INFO:tensorflow:Assets written to: convnet_pretrained_augmentation.tf\\assets\n"
     ]
    },
    {
     "name": "stderr",
     "output_type": "stream",
     "text": [
      "INFO:tensorflow:Assets written to: convnet_pretrained_augmentation.tf\\assets\n"
     ]
    },
    {
     "name": "stdout",
     "output_type": "stream",
     "text": [
      "6/6 [==============================] - 42s 8s/step - loss: 0.8980 - accuracy: 0.9176 - val_loss: 0.5813 - val_accuracy: 0.9300\n",
      "Epoch 49/50\n",
      "6/6 [==============================] - ETA: 0s - loss: 1.0775 - accuracy: 0.9294INFO:tensorflow:Assets written to: convnet_pretrained_augmentation.tf\\assets\n"
     ]
    },
    {
     "name": "stderr",
     "output_type": "stream",
     "text": [
      "INFO:tensorflow:Assets written to: convnet_pretrained_augmentation.tf\\assets\n"
     ]
    },
    {
     "name": "stdout",
     "output_type": "stream",
     "text": [
      "6/6 [==============================] - 42s 8s/step - loss: 1.0775 - accuracy: 0.9294 - val_loss: 0.5783 - val_accuracy: 0.9250\n",
      "Epoch 50/50\n",
      "6/6 [==============================] - 41s 7s/step - loss: 1.1641 - accuracy: 0.8941 - val_loss: 0.5815 - val_accuracy: 0.9300\n"
     ]
    },
    {
     "data": {
      "text/plain": "<Figure size 1200x400 with 2 Axes>",
      "image/png": "[encoded data removed]"
     },
     "metadata": {},
     "output_type": "display_data"
    }
   ],
   "source": [
    "cwd = os.getcwd()\n",
    "\n",
    "dir_train_rubens = \"dataset/validation/rubens\"\n",
    "dir_train_picasso= \"dataset/validation/picasso\"\n",
    "dir_validation_rubens = \"dataset/test/rubens\"\n",
    "dir_validation_picasso= \"dataset/test/picasso\"\n",
    "file_train_rubens = os.listdir(dir_train_rubens)\n",
    "file_validation_rubens = os.listdir(dir_validation_rubens)\n",
    "file_train_picasso = os.listdir(dir_train_picasso)\n",
    "file_validation_picasso = os.listdir(dir_validation_picasso)\n",
    "\n",
    "train_rubens =[Image.open(os.path.join(dir_train_rubens, file)) for file in file_train_rubens]\n",
    "train_picasso =[Image.open(os.path.join(dir_train_picasso, file)) for file in file_train_picasso]\n",
    "validation_rubens = [Image.open(os.path.join(dir_validation_rubens, file)) for file in file_validation_rubens]\n",
    "validation_picasso = [Image.open(os.path.join(dir_validation_picasso, file)) for file in file_validation_picasso]\n",
    "\n",
    "train_set, train_labels = mix(train_rubens, train_picasso)\n",
    "validation_set, validation_labels = mix(validation_rubens, validation_picasso)\n",
    "\n",
    "train_set = train_set.reshape(len(train_set), 412, 550, 3)\n",
    "validation_set = validation_set.reshape(len(validation_set), 412, 550, 3)\n",
    "\n",
    "# train_set, train_labels = get_features_and_labels(train_set, train_labels)\n",
    "# validation_set, n = get_features_and_labels(validation_set, validation_labels)\n",
    "\n",
    "callbacks = [\n",
    "    keras.callbacks.ModelCheckpoint(filepath=\"convnet_pretrained_augmentation.tf\", save_best_only=True, monitor=\"val_loss\"),\n",
    "    keras.callbacks.EarlyStopping(monitor=\"val_accuracy\", patience=5) #Stoppen bij gebrek aan verbetering\n",
    "    ]\n",
    "\n",
    "history = model.fit(train_set, train_labels, validation_data=(validation_set, validation_labels), epochs=50, callbacks=callbacks)\n",
    "\n",
    "plt.figure(figsize=(12, 4))\n",
    "\n",
    "plt.subplot(1, 2, 1)\n",
    "plt.plot(history.history['accuracy'])\n",
    "plt.plot(history.history['val_accuracy'])\n",
    "plt.title('Model accuracy')\n",
    "plt.ylabel('Accuracy')\n",
    "plt.xlabel('Epoch')\n",
    "plt.legend(['Train', 'validation'], loc='upper left')\n",
    "\n",
    "# Plot training & validation loss values\n",
    "plt.subplot(1, 2, 2)\n",
    "plt.plot(history.history['loss'])\n",
    "plt.plot(history.history['val_loss'])\n",
    "plt.title('Model loss')\n",
    "plt.ylabel('Loss')\n",
    "plt.xlabel('Epoch')\n",
    "plt.legend(['Train', 'validation'], loc='upper left')\n",
    "\n",
    "plt.show()"
   ],
   "id": "9edf50090838c0cd",
   "execution_count": 27
  },
  {
   "metadata": {
    "ExecuteTime": {
     "end_time": "2024-02-04T12:19:03.075023500Z",
     "start_time": "2024-02-04T12:19:02.100016300Z"
    }
   },
   "cell_type": "code",
   "outputs": [
    {
     "name": "stdout",
     "output_type": "stream",
     "text": [
      "(1, 412, 550, 3)\n",
      "1/1 [==============================] - 0s 15ms/step\n"
     ]
    },
    {
     "ename": "IndexError",
     "evalue": "list index out of range",
     "output_type": "error",
     "traceback": [
      "\u001B[1;31m---------------------------------------------------------------------------\u001B[0m",
      "\u001B[1;31mIndexError\u001B[0m                                Traceback (most recent call last)",
      "Cell \u001B[1;32mIn[28], line 20\u001B[0m\n\u001B[0;32m     18\u001B[0m \u001B[38;5;66;03m# img_path , _ = get_features_and_labels(img_path, None)\u001B[39;00m\n\u001B[0;32m     19\u001B[0m \u001B[38;5;28mprint\u001B[39m(img_path\u001B[38;5;241m.\u001B[39mshape)\n\u001B[1;32m---> 20\u001B[0m activations \u001B[38;5;241m=\u001B[39m \u001B[43mactivation_model\u001B[49m\u001B[38;5;241;43m.\u001B[39;49m\u001B[43mpredict\u001B[49m\u001B[43m(\u001B[49m\u001B[43mimg_path\u001B[49m\u001B[43m)\u001B[49m\n\u001B[0;32m     22\u001B[0m images_per_row \u001B[38;5;241m=\u001B[39m \u001B[38;5;241m4\u001B[39m\n\u001B[0;32m     23\u001B[0m \u001B[38;5;28;01mfor\u001B[39;00m layer_name, layer_activations \u001B[38;5;129;01min\u001B[39;00m \u001B[38;5;28mzip\u001B[39m(layer_names, activations):\n",
      "File \u001B[1;32m~\\AppData\\Local\\Programs\\Python\\Python311\\Lib\\site-packages\\keras\\src\\utils\\traceback_utils.py:70\u001B[0m, in \u001B[0;36mfilter_traceback.<locals>.error_handler\u001B[1;34m(*args, **kwargs)\u001B[0m\n\u001B[0;32m     67\u001B[0m     filtered_tb \u001B[38;5;241m=\u001B[39m _process_traceback_frames(e\u001B[38;5;241m.\u001B[39m__traceback__)\n\u001B[0;32m     68\u001B[0m     \u001B[38;5;66;03m# To get the full stack trace, call:\u001B[39;00m\n\u001B[0;32m     69\u001B[0m     \u001B[38;5;66;03m# `tf.debugging.disable_traceback_filtering()`\u001B[39;00m\n\u001B[1;32m---> 70\u001B[0m     \u001B[38;5;28;01mraise\u001B[39;00m e\u001B[38;5;241m.\u001B[39mwith_traceback(filtered_tb) \u001B[38;5;28;01mfrom\u001B[39;00m \u001B[38;5;28;01mNone\u001B[39;00m\n\u001B[0;32m     71\u001B[0m \u001B[38;5;28;01mfinally\u001B[39;00m:\n\u001B[0;32m     72\u001B[0m     \u001B[38;5;28;01mdel\u001B[39;00m filtered_tb\n",
      "File \u001B[1;32m~\\AppData\\Local\\Programs\\Python\\Python311\\Lib\\site-packages\\keras\\src\\utils\\tf_utils.py:680\u001B[0m, in \u001B[0;36msync_to_numpy_or_python_type\u001B[1;34m(tensors)\u001B[0m\n\u001B[0;32m    677\u001B[0m \u001B[38;5;28;01mif\u001B[39;00m \u001B[38;5;28misinstance\u001B[39m(tensors, tf\u001B[38;5;241m.\u001B[39mdistribute\u001B[38;5;241m.\u001B[39mexperimental\u001B[38;5;241m.\u001B[39mcoordinator\u001B[38;5;241m.\u001B[39mRemoteValue):\n\u001B[0;32m    678\u001B[0m     tensors \u001B[38;5;241m=\u001B[39m tensors\u001B[38;5;241m.\u001B[39mfetch()\n\u001B[0;32m    679\u001B[0m \u001B[38;5;28;01mif\u001B[39;00m \u001B[38;5;28misinstance\u001B[39m(tensors, \u001B[38;5;28mlist\u001B[39m) \u001B[38;5;129;01mand\u001B[39;00m \u001B[38;5;28misinstance\u001B[39m(\n\u001B[1;32m--> 680\u001B[0m     \u001B[43mtensors\u001B[49m\u001B[43m[\u001B[49m\u001B[38;5;241;43m0\u001B[39;49m\u001B[43m]\u001B[49m, tf\u001B[38;5;241m.\u001B[39mdistribute\u001B[38;5;241m.\u001B[39mexperimental\u001B[38;5;241m.\u001B[39mcoordinator\u001B[38;5;241m.\u001B[39mRemoteValue\n\u001B[0;32m    681\u001B[0m ):\n\u001B[0;32m    682\u001B[0m     tensors \u001B[38;5;241m=\u001B[39m tf\u001B[38;5;241m.\u001B[39mnest\u001B[38;5;241m.\u001B[39mmap_structure(\u001B[38;5;28;01mlambda\u001B[39;00m t: t\u001B[38;5;241m.\u001B[39mfetch(), tensors)\n\u001B[0;32m    684\u001B[0m \u001B[38;5;28;01mdef\u001B[39;00m \u001B[38;5;21m_to_single_numpy_or_python_type\u001B[39m(t):\n\u001B[0;32m    685\u001B[0m     \u001B[38;5;66;03m# Don't turn ragged or sparse tensors to NumPy.\u001B[39;00m\n",
      "\u001B[1;31mIndexError\u001B[0m: list index out of range"
     ]
    }
   ],
   "source": [
    "from sklearn.preprocessing import MinMaxScaler\n",
    "\n",
    "model = keras.models.load_model('convnet_pretrained_augmentation.tf')\n",
    "\n",
    "layer_output = []\n",
    "layer_names = []\n",
    "for layer in model.layers:\n",
    "    if isinstance(layer, (layers.Conv2D, layers.MaxPooling2D)):\n",
    "        layer_output.append(layer.output)\n",
    "        layer_names.append(layer.name)\n",
    "        \n",
    "activation_model = keras.Model(inputs=model.input, outputs=layer_output)\n",
    "\n",
    "img_path = Image.open(\"dataset/test/picasso/1468.jpg\")\n",
    "img_path = np.reshape(img_path, (412, 550, 3))\n",
    "img_path = np.expand_dims(img_path, axis=0)\n",
    "\n",
    "# img_path , _ = get_features_and_labels(img_path, None)\n",
    "print(img_path.shape)\n",
    "activations = activation_model.predict(img_path)\n",
    "\n",
    "images_per_row = 4\n",
    "for layer_name, layer_activations in zip(layer_names, activations):\n",
    "    n_features = layer_activations.shape[-1]\n",
    "    height = layer_activations.shape[2]\n",
    "    width = layer_activations.shape[1]\n",
    "    n_cols = n_features // images_per_row\n",
    "    display_grid = np.zeros(((width + 1) * n_cols - 1, images_per_row * (height + 1) - 1))\n",
    "    \n",
    "    for col in range(n_cols):\n",
    "        for row in range(images_per_row):\n",
    "            chanal_index = col * images_per_row + row\n",
    "            channel_img = layer_activations[0, :, :, chanal_index].copy()\n",
    "            \n",
    "            if channel_img.sum() != 0:\n",
    "                channel_img -= channel_img.mean()\n",
    "                channel_img /= channel_img.std()\n",
    "                channel_img *= 64\n",
    "                channel_img += 128\n",
    "\n",
    "            channel_img = np.clip(channel_img, 0, 255).astype(np.uint8)\n",
    "\n",
    "            display_grid[\n",
    "                col * (width + 1) : (col + 1) * width + col, \n",
    "                row * (height + 1) : (row + 1) * height + row\n",
    "            ] = channel_img\n",
    "\n",
    "    scale_width = 1.0 / width\n",
    "    scale_height = 1.0 / height\n",
    "    plt.figure(figsize=(scale_height * display_grid.shape[1],scale_width * display_grid.shape[0]))\n",
    "    plt.title(layer_name)\n",
    "    plt.grid(False)\n",
    "    plt.imshow(display_grid, aspect='auto', cmap='viridis')\n"
   ],
   "id": "f411f234a6a5a9b4",
   "execution_count": 28
  },
  {
   "metadata": {
    "ExecuteTime": {
     "start_time": "2024-02-04T12:19:03.071520500Z"
    }
   },
   "cell_type": "code",
   "outputs": [],
   "source": [
    "cwd = os.getcwd()\n",
    "dir_test_rubens = \"dataset/test/rubens\"\n",
    "dir_test_picasso= \"dataset/test/picasso\"\n",
    "file_test_rubens = os.listdir(dir_test_rubens)\n",
    "file_test_picasso = os.listdir(dir_test_picasso)\n",
    "\n",
    "test_rubens = [Image.open(os.path.join(dir_test_rubens, file)) for file in file_validation_rubens]\n",
    "test_picasso = [Image.open(os.path.join(dir_test_picasso, file)) for file in file_test_picasso]\n",
    "\n",
    "test_set, test_labels = mix(test_rubens, test_picasso)\n",
    "\n",
    "test_set = test_set.reshape(len(test_set), 412, 550, 3)\n",
    "\n",
    "test_model = keras.models.load_model('convnet_pretrained_augmentation.tf')\n",
    "test_loss, test_acc = test_model.evaluate(test_set, test_labels)\n",
    "print('Test loss:', test_loss)"
   ],
   "id": "2fa430b79ce02f51",
   "execution_count": null
  }
 ],
 "metadata": {
  "kernelspec": {
   "display_name": "Python 3",
   "language": "python",
   "name": "python3"
  },
  "language_info": {
   "codemirror_mode": {
    "name": "ipython",
    "version": 2
   },
   "file_extension": ".py",
   "mimetype": "text/x-python",
   "name": "python",
   "nbconvert_exporter": "python",
   "pygments_lexer": "ipython2",
   "version": "2.7.6"
  }
 },
 "nbformat": 4,
 "nbformat_minor": 5
}
