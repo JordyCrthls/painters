{
 "cells": [
  {
   "metadata": {
    "ExecuteTime": {
     "end_time": "2024-01-27T19:25:30.292783400Z",
     "start_time": "2024-01-27T19:25:30.040617Z"
    }
   },
   "cell_type": "code",
   "outputs": [],
   "source": [
    "from tensorflow import keras\n",
    "from tensorflow.keras import layers\n",
    "import numpy as np\n",
    "import cv2\n",
    "from PIL import Image\n",
    "import os\n",
    "import matplotlib.pyplot as plt"
   ],
   "id": "fffea8e4dc886fb4",
   "execution_count": 132
  },
  {
   "cell_type": "code",
   "id": "initial_id",
   "metadata": {
    "collapsed": true,
    "ExecuteTime": {
     "end_time": "2024-01-27T19:15:42.502160600Z",
     "start_time": "2024-01-27T19:15:42.489366200Z"
    }
   },
   "outputs": [],
   "source": [
    "# 2 painters simple convnet"
   ],
   "execution_count": 122
  },
  {
   "metadata": {
    "ExecuteTime": {
     "end_time": "2024-01-27T19:31:45.452711Z",
     "start_time": "2024-01-27T19:31:45.450202900Z"
    }
   },
   "cell_type": "code",
   "outputs": [],
   "source": [
    "def create_simpleconvnet():\n",
    "    inputs = keras.Input(shape=(550, 412, 3))\n",
    "    x = layers.Rescaling(1./255)(inputs)\n",
    "    x = layers.Conv2D(filters=32, kernel_size=3, activation='relu')(x)\n",
    "    x = layers.MaxPool2D(pool_size=2)(x)\n",
    "    x = layers.Conv2D(filters=64, kernel_size=3, activation='relu')(x)\n",
    "    x = layers.MaxPool2D(pool_size=2)(x)\n",
    "    x = layers.Conv2D(filters=128, kernel_size=3, activation='relu')(x)\n",
    "    x = layers.MaxPool2D(pool_size=2)(x)\n",
    "    x = layers.Conv2D(filters=256, kernel_size=3, activation='relu')(x)    \n",
    "    x = layers.MaxPool2D(pool_size=2)(x)\n",
    "    x = layers.Conv2D(filters=256, kernel_size=3, activation='relu')(x)\n",
    "    x = layers.Flatten()(x)\n",
    "    outputs = layers.Dense(2, activation='relu')(x)\n",
    "    model = keras.Model(inputs=inputs, outputs=outputs)\n",
    "    \n",
    "    model.compile(loss=\"categorical_crossentropy\",optimizer='rmsprop', metrics=[\"accuracy\"])\n",
    "\n",
    "    model.summary()\n",
    "    \n",
    "    return model"
   ],
   "id": "a3a9517a8875345",
   "execution_count": 134
  },
  {
   "metadata": {
    "ExecuteTime": {
     "end_time": "2024-01-27T19:31:50.451441200Z",
     "start_time": "2024-01-27T19:31:50.355250Z"
    }
   },
   "cell_type": "code",
   "outputs": [
    {
     "name": "stdout",
     "output_type": "stream",
     "text": [
      "Model: \"model_12\"\n",
      "_________________________________________________________________\n",
      " Layer (type)                Output Shape              Param #   \n",
      "=================================================================\n",
      " input_13 (InputLayer)       [(None, 550, 412, 3)]     0         \n",
      "                                                                 \n",
      " rescaling_12 (Rescaling)    (None, 550, 412, 3)       0         \n",
      "                                                                 \n",
      " conv2d_59 (Conv2D)          (None, 548, 410, 32)      896       \n",
      "                                                                 \n",
      " max_pooling2d_48 (MaxPooli  (None, 274, 205, 32)      0         \n",
      " ng2D)                                                           \n",
      "                                                                 \n",
      " conv2d_60 (Conv2D)          (None, 272, 203, 64)      18496     \n",
      "                                                                 \n",
      " max_pooling2d_49 (MaxPooli  (None, 136, 101, 64)      0         \n",
      " ng2D)                                                           \n",
      "                                                                 \n",
      " conv2d_61 (Conv2D)          (None, 134, 99, 128)      73856     \n",
      "                                                                 \n",
      " max_pooling2d_50 (MaxPooli  (None, 67, 49, 128)       0         \n",
      " ng2D)                                                           \n",
      "                                                                 \n",
      " conv2d_62 (Conv2D)          (None, 65, 47, 256)       295168    \n",
      "                                                                 \n",
      " max_pooling2d_51 (MaxPooli  (None, 32, 23, 256)       0         \n",
      " ng2D)                                                           \n",
      "                                                                 \n",
      " conv2d_63 (Conv2D)          (None, 30, 21, 256)       590080    \n",
      "                                                                 \n",
      " flatten_12 (Flatten)        (None, 161280)            0         \n",
      "                                                                 \n",
      " dense_12 (Dense)            (None, 2)                 322562    \n",
      "                                                                 \n",
      "=================================================================\n",
      "Total params: 1301058 (4.96 MB)\n",
      "Trainable params: 1301058 (4.96 MB)\n",
      "Non-trainable params: 0 (0.00 Byte)\n",
      "_________________________________________________________________\n"
     ]
    }
   ],
   "source": [
    "model = create_simpleconvnet()"
   ],
   "id": "c61ef4ce41033146",
   "execution_count": 135
  },
  {
   "metadata": {
    "ExecuteTime": {
     "end_time": "2024-01-27T19:31:56.263350900Z",
     "start_time": "2024-01-27T19:31:56.259844200Z"
    }
   },
   "cell_type": "code",
   "outputs": [],
   "source": [
    "#mix arrays per n elements\n",
    "\n",
    "def mix(elements1:[], elements2:[], n=5):\n",
    "    objects_set = []\n",
    "    labels_set = []\n",
    "    i = 0\n",
    "    while i < len(elements1) and i < len(elements2):\n",
    "            objects_set.append(np.reshape(elements1[i], (550, 412, 3)))\n",
    "            labels_set.append([1, 0])\n",
    "    \n",
    "            objects_set.append(np.reshape(elements2[i], (550, 412, 3)))\n",
    "            labels_set.append([0, 1])\n",
    "            \n",
    "            i+=1\n",
    "            \n",
    "    return np.array(objects_set), np.array(labels_set)\n",
    "    "
   ],
   "id": "2ab2e31c4109aa47",
   "execution_count": 136
  },
  {
   "metadata": {
    "ExecuteTime": {
     "end_time": "2024-01-27T19:34:25.028868Z",
     "start_time": "2024-01-27T19:31:58.840320300Z"
    }
   },
   "cell_type": "code",
   "outputs": [
    {
     "name": "stdout",
     "output_type": "stream",
     "text": [
      "200\n",
      "Epoch 1/10\n",
      "6/6 [==============================] - 15s 3s/step - loss: 7.5591 - accuracy: 0.4824 - val_loss: 8.0590 - val_accuracy: 0.5000\n",
      "Epoch 2/10\n",
      "6/6 [==============================] - 15s 2s/step - loss: 8.0590 - accuracy: 0.5000 - val_loss: 8.0590 - val_accuracy: 0.5000\n",
      "Epoch 3/10\n",
      "6/6 [==============================] - 14s 2s/step - loss: 8.0590 - accuracy: 0.5000 - val_loss: 8.0590 - val_accuracy: 0.5000\n",
      "Epoch 4/10\n",
      "6/6 [==============================] - 15s 2s/step - loss: 8.0590 - accuracy: 0.5000 - val_loss: 8.0590 - val_accuracy: 0.5000\n",
      "Epoch 5/10\n",
      "6/6 [==============================] - 14s 2s/step - loss: 8.0590 - accuracy: 0.5000 - val_loss: 8.0590 - val_accuracy: 0.5000\n",
      "Epoch 6/10\n",
      "6/6 [==============================] - 15s 2s/step - loss: 8.0590 - accuracy: 0.5000 - val_loss: 8.0590 - val_accuracy: 0.5000\n",
      "Epoch 7/10\n",
      "6/6 [==============================] - 14s 2s/step - loss: 8.0590 - accuracy: 0.5000 - val_loss: 8.0590 - val_accuracy: 0.5000\n",
      "Epoch 8/10\n",
      "6/6 [==============================] - 14s 2s/step - loss: 8.0590 - accuracy: 0.5000 - val_loss: 8.0590 - val_accuracy: 0.5000\n",
      "Epoch 9/10\n",
      "6/6 [==============================] - 14s 2s/step - loss: 8.0590 - accuracy: 0.5000 - val_loss: 8.0590 - val_accuracy: 0.5000\n",
      "Epoch 10/10\n",
      "6/6 [==============================] - 15s 2s/step - loss: 8.0590 - accuracy: 0.5000 - val_loss: 8.0590 - val_accuracy: 0.5000\n"
     ]
    },
    {
     "data": {
      "text/plain": [
       "<Figure size 1200x400 with 2 Axes>"
      ],
      "image/png": "[encoded data removed]"
     },
     "metadata": {},
     "output_type": "display_data"
    }
   ],
   "source": [
    "cwd = os.getcwd()\n",
    "dir_train_rubens = \"dataset/validation/rubens\"\n",
    "dir_train_picasso= \"dataset/validation/picasso\"\n",
    "dir_validation_rubens = \"dataset/test/rubens\"\n",
    "dir_validation_picasso= \"dataset/test/picasso\"\n",
    "file_train_rubens = os.listdir(dir_train_rubens)\n",
    "file_validation_rubens = os.listdir(dir_validation_rubens)\n",
    "file_train_picasso = os.listdir(dir_train_picasso)\n",
    "file_validation_picasso = os.listdir(dir_validation_picasso)\n",
    "\n",
    "train_rubens =[Image.open(os.path.join(dir_train_rubens, file)) for file in file_train_rubens]\n",
    "train_picasso =[Image.open(os.path.join(dir_train_picasso, file)) for file in file_train_picasso]\n",
    "validation_rubens = [Image.open(os.path.join(dir_validation_rubens, file)) for file in file_validation_rubens]\n",
    "validation_picasso = [Image.open(os.path.join(dir_validation_picasso, file)) for file in file_validation_picasso]\n",
    "\n",
    "train_set, train_labels = mix(train_rubens, train_picasso)\n",
    "validation_set, validation_labels = mix(validation_rubens, validation_picasso)\n",
    "\n",
    "train_set = train_set.reshape(len(train_set), 550, 412, 3)\n",
    "validation_set = validation_set.reshape(len(validation_set), 550, 412, 3)\n",
    "\n",
    "print(len(validation_set))\n",
    "\n",
    "callbacks = [keras.callbacks.ModelCheckpoint(filepath=\"convnet_from_scratch.keras\")]\n",
    "\n",
    "history = model.fit(train_set, train_labels, validation_data=(validation_set, validation_labels), epochs=10, batch_size=32, callbacks=callbacks)\n",
    "\n",
    "plt.figure(figsize=(12, 4))\n",
    "\n",
    "plt.subplot(1, 2, 1)\n",
    "plt.plot(history.history['accuracy'])\n",
    "plt.plot(history.history['val_accuracy'])\n",
    "plt.title('Model accuracy')\n",
    "plt.ylabel('Accuracy')\n",
    "plt.xlabel('Epoch')\n",
    "plt.legend(['Train', 'Test'], loc='upper left')\n",
    "\n",
    "# Plot training & validation loss values\n",
    "plt.subplot(1, 2, 2)\n",
    "plt.plot(history.history['loss'])\n",
    "plt.plot(history.history['val_loss'])\n",
    "plt.title('Model loss')\n",
    "plt.ylabel('Loss')\n",
    "plt.xlabel('Epoch')\n",
    "plt.legend(['Train', 'Test'], loc='upper left')\n",
    "\n",
    "plt.show()"
   ],
   "id": "9edf50090838c0cd",
   "execution_count": 137
  },
  {
   "metadata": {
    "ExecuteTime": {
     "end_time": "2024-01-27T19:34:49.844509300Z",
     "start_time": "2024-01-27T19:34:46.549536Z"
    }
   },
   "cell_type": "code",
   "outputs": [
    {
     "name": "stdout",
     "output_type": "stream",
     "text": [
      "7/7 [==============================] - 3s 372ms/step - loss: 8.0590 - accuracy: 0.5000\n",
      "Test loss: 8.05904769897461\n"
     ]
    }
   ],
   "source": [
    "cwd = os.getcwd()\n",
    "dir_test_rubens = \"dataset/test/rubens\"\n",
    "dir_test_picasso= \"dataset/test/picasso\"\n",
    "file_train_rubens = os.listdir(dir_train_rubens)\n",
    "file_test_rubens = os.listdir(dir_test_rubens)\n",
    "file_train_picasso = os.listdir(dir_train_picasso)\n",
    "file_test_picasso = os.listdir(dir_test_picasso)\n",
    "\n",
    "test_rubens = [Image.open(os.path.join(dir_test_rubens, file)) for file in file_validation_rubens]\n",
    "test_picasso = [Image.open(os.path.join(dir_test_picasso, file)) for file in file_test_picasso]\n",
    "\n",
    "test_set, test_labels = mix(test_rubens, test_picasso)\n",
    "\n",
    "train_set = train_set.reshape(len(train_set), 550, 412, 3)\n",
    "test_set = test_set.reshape(len(test_set), 550, 412, 3)\n",
    "\n",
    "test_model = keras.models.load_model('convnet_from_scratch.keras')\n",
    "test_loss, test_acc = test_model.evaluate(test_set, test_labels)\n",
    "print('Test loss:', test_loss)"
   ],
   "id": "2fa430b79ce02f51",
   "execution_count": 138
  }
 ],
 "metadata": {
  "kernelspec": {
   "display_name": "Python 3",
   "language": "python",
   "name": "python3"
  },
  "language_info": {
   "codemirror_mode": {
    "name": "ipython",
    "version": 2
   },
   "file_extension": ".py",
   "mimetype": "text/x-python",
   "name": "python",
   "nbconvert_exporter": "python",
   "pygments_lexer": "ipython2",
   "version": "2.7.6"
  }
 },
 "nbformat": 4,
 "nbformat_minor": 5
}
