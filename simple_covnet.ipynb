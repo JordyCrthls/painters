{
 "cells": [
  {
   "metadata": {
    "ExecuteTime": {
     "end_time": "2024-01-28T14:59:37.867245100Z",
     "start_time": "2024-01-28T14:59:37.346858300Z"
    }
   },
   "cell_type": "code",
   "outputs": [],
   "source": [
    "from tensorflow import keras\n",
    "from tensorflow.keras import layers\n",
    "import numpy as np\n",
    "import cv2\n",
    "from PIL import Image\n",
    "import os\n",
    "import matplotlib.pyplot as plt"
   ],
   "id": "fffea8e4dc886fb4",
   "execution_count": 6
  },
  {
   "cell_type": "code",
   "id": "initial_id",
   "metadata": {
    "collapsed": true,
    "ExecuteTime": {
     "end_time": "2024-01-28T14:59:37.870780500Z",
     "start_time": "2024-01-28T14:59:37.868245500Z"
    }
   },
   "outputs": [],
   "source": [
    "# 2 painters simple convnet"
   ],
   "execution_count": 7
  },
  {
   "metadata": {
    "ExecuteTime": {
     "end_time": "2024-01-28T14:59:37.874904600Z",
     "start_time": "2024-01-28T14:59:37.872370100Z"
    }
   },
   "cell_type": "code",
   "outputs": [],
   "source": [
    "def create_simpleconvnet():\n",
    "    inputs = keras.Input(shape=(412, 550, 3))\n",
    "    x = layers.Rescaling(1./255)(inputs)\n",
    "    x = layers.Conv2D(filters=32, kernel_size=3, activation='relu')(x)\n",
    "    x = layers.MaxPool2D(pool_size=2)(x)\n",
    "    x = layers.Conv2D(filters=64, kernel_size=3, activation='relu')(x)\n",
    "    x = layers.MaxPool2D(pool_size=2)(x)\n",
    "    x = layers.Conv2D(filters=128, kernel_size=3, activation='relu')(x)\n",
    "    x = layers.MaxPool2D(pool_size=2)(x)\n",
    "    x = layers.Conv2D(filters=256, kernel_size=3, activation='relu')(x)    \n",
    "    x = layers.MaxPool2D(pool_size=2)(x)\n",
    "    x = layers.Conv2D(filters=256, kernel_size=3, activation='relu')(x)\n",
    "    x = layers.Flatten()(x)\n",
    "    outputs = layers.Dense(2, activation='sigmoid')(x)\n",
    "    model = keras.Model(inputs=inputs, outputs=outputs)\n",
    "    \n",
    "    model.compile(loss=\"categorical_crossentropy\",optimizer='adam', metrics=[\"accuracy\"])\n",
    "\n",
    "    model.summary()\n",
    "    \n",
    "    return model"
   ],
   "id": "a3a9517a8875345",
   "execution_count": 8
  },
  {
   "metadata": {
    "ExecuteTime": {
     "end_time": "2024-01-28T14:59:38.061519900Z",
     "start_time": "2024-01-28T14:59:37.874904600Z"
    }
   },
   "cell_type": "code",
   "outputs": [
    {
     "name": "stdout",
     "output_type": "stream",
     "text": [
      "Model: \"model\"\n",
      "_________________________________________________________________\n",
      " Layer (type)                Output Shape              Param #   \n",
      "=================================================================\n",
      " input_1 (InputLayer)        [(None, 412, 550, 3)]     0         \n",
      "                                                                 \n",
      " rescaling (Rescaling)       (None, 412, 550, 3)       0         \n",
      "                                                                 \n",
      " conv2d (Conv2D)             (None, 410, 548, 32)      896       \n",
      "                                                                 \n",
      " max_pooling2d (MaxPooling2  (None, 205, 274, 32)      0         \n",
      " D)                                                              \n",
      "                                                                 \n",
      " conv2d_1 (Conv2D)           (None, 203, 272, 64)      18496     \n",
      "                                                                 \n",
      " max_pooling2d_1 (MaxPoolin  (None, 101, 136, 64)      0         \n",
      " g2D)                                                            \n",
      "                                                                 \n",
      " conv2d_2 (Conv2D)           (None, 99, 134, 128)      73856     \n",
      "                                                                 \n",
      " max_pooling2d_2 (MaxPoolin  (None, 49, 67, 128)       0         \n",
      " g2D)                                                            \n",
      "                                                                 \n",
      " conv2d_3 (Conv2D)           (None, 47, 65, 256)       295168    \n",
      "                                                                 \n",
      " max_pooling2d_3 (MaxPoolin  (None, 23, 32, 256)       0         \n",
      " g2D)                                                            \n",
      "                                                                 \n",
      " conv2d_4 (Conv2D)           (None, 21, 30, 256)       590080    \n",
      "                                                                 \n",
      " flatten (Flatten)           (None, 161280)            0         \n",
      "                                                                 \n",
      " dense (Dense)               (None, 2)                 322562    \n",
      "                                                                 \n",
      "=================================================================\n",
      "Total params: 1301058 (4.96 MB)\n",
      "Trainable params: 1301058 (4.96 MB)\n",
      "Non-trainable params: 0 (0.00 Byte)\n",
      "_________________________________________________________________\n"
     ]
    }
   ],
   "source": [
    "model = create_simpleconvnet()"
   ],
   "id": "c61ef4ce41033146",
   "execution_count": 9
  },
  {
   "metadata": {
    "ExecuteTime": {
     "end_time": "2024-01-28T14:59:38.062519900Z",
     "start_time": "2024-01-28T14:59:38.060013500Z"
    }
   },
   "cell_type": "code",
   "outputs": [],
   "source": [
    "#mix arrays per n elements\n",
    "\n",
    "def mix(elements1:[], elements2:[], n=5):\n",
    "    objects_set = []\n",
    "    labels_set = []\n",
    "    i = 0\n",
    "    while i < len(elements1) and i < len(elements2):\n",
    "            objects_set.append(np.reshape(elements1[i], (412, 550, 3)))\n",
    "            labels_set.append([1, 0])\n",
    "    \n",
    "            objects_set.append(np.reshape(elements2[i], (412, 550, 3)))\n",
    "            labels_set.append([0, 1])\n",
    "            \n",
    "            i+=1\n",
    "            \n",
    "    return np.array(objects_set), np.array(labels_set)\n",
    "    "
   ],
   "id": "2ab2e31c4109aa47",
   "execution_count": 10
  },
  {
   "metadata": {
    "ExecuteTime": {
     "end_time": "2024-01-28T15:09:33.728026300Z",
     "start_time": "2024-01-28T15:02:21.026947600Z"
    }
   },
   "cell_type": "code",
   "outputs": [
    {
     "name": "stdout",
     "output_type": "stream",
     "text": [
      "Epoch 1/30\n",
      "3/3 [==============================] - 14s 5s/step - loss: 0.7137 - accuracy: 0.4941 - val_loss: 0.6867 - val_accuracy: 0.5000\n",
      "Epoch 2/30\n",
      "3/3 [==============================] - 14s 5s/step - loss: 0.6681 - accuracy: 0.5059 - val_loss: 0.6606 - val_accuracy: 0.7300\n",
      "Epoch 3/30\n",
      "3/3 [==============================] - 14s 5s/step - loss: 0.6316 - accuracy: 0.6588 - val_loss: 0.7426 - val_accuracy: 0.5200\n",
      "Epoch 4/30\n",
      "3/3 [==============================] - 14s 5s/step - loss: 0.6010 - accuracy: 0.6529 - val_loss: 0.5937 - val_accuracy: 0.7050\n",
      "Epoch 5/30\n",
      "3/3 [==============================] - 14s 5s/step - loss: 0.5182 - accuracy: 0.7882 - val_loss: 0.5768 - val_accuracy: 0.7350\n",
      "Epoch 6/30\n",
      "3/3 [==============================] - 14s 5s/step - loss: 0.4410 - accuracy: 0.8000 - val_loss: 0.5865 - val_accuracy: 0.7200\n",
      "Epoch 7/30\n",
      "3/3 [==============================] - 14s 5s/step - loss: 0.5224 - accuracy: 0.7529 - val_loss: 0.5648 - val_accuracy: 0.7300\n",
      "Epoch 8/30\n",
      "3/3 [==============================] - 14s 5s/step - loss: 0.4588 - accuracy: 0.7647 - val_loss: 0.5361 - val_accuracy: 0.7300\n",
      "Epoch 9/30\n",
      "3/3 [==============================] - 14s 5s/step - loss: 0.4329 - accuracy: 0.8000 - val_loss: 0.6000 - val_accuracy: 0.6900\n",
      "Epoch 10/30\n",
      "3/3 [==============================] - 14s 5s/step - loss: 0.4308 - accuracy: 0.8176 - val_loss: 0.5122 - val_accuracy: 0.7500\n",
      "Epoch 11/30\n",
      "3/3 [==============================] - 14s 5s/step - loss: 0.3610 - accuracy: 0.8471 - val_loss: 0.5596 - val_accuracy: 0.7500\n",
      "Epoch 12/30\n",
      "3/3 [==============================] - 14s 5s/step - loss: 0.3058 - accuracy: 0.8647 - val_loss: 0.6921 - val_accuracy: 0.7800\n",
      "Epoch 13/30\n",
      "3/3 [==============================] - 14s 5s/step - loss: 0.3223 - accuracy: 0.8588 - val_loss: 0.6643 - val_accuracy: 0.7800\n",
      "Epoch 14/30\n",
      "3/3 [==============================] - 14s 5s/step - loss: 0.2630 - accuracy: 0.8824 - val_loss: 0.5777 - val_accuracy: 0.8000\n",
      "Epoch 15/30\n",
      "3/3 [==============================] - 14s 5s/step - loss: 0.2503 - accuracy: 0.8882 - val_loss: 0.6192 - val_accuracy: 0.7900\n",
      "Epoch 16/30\n",
      "3/3 [==============================] - 14s 5s/step - loss: 0.2228 - accuracy: 0.9059 - val_loss: 0.7671 - val_accuracy: 0.7800\n",
      "Epoch 17/30\n",
      "3/3 [==============================] - 14s 5s/step - loss: 0.2021 - accuracy: 0.9000 - val_loss: 0.7957 - val_accuracy: 0.8000\n",
      "Epoch 18/30\n",
      "3/3 [==============================] - 14s 5s/step - loss: 0.1896 - accuracy: 0.9000 - val_loss: 0.7598 - val_accuracy: 0.7750\n",
      "Epoch 19/30\n",
      "3/3 [==============================] - 14s 5s/step - loss: 0.1874 - accuracy: 0.9118 - val_loss: 0.9283 - val_accuracy: 0.7550\n",
      "Epoch 20/30\n",
      "3/3 [==============================] - 14s 5s/step - loss: 0.1512 - accuracy: 0.9294 - val_loss: 0.7579 - val_accuracy: 0.7600\n",
      "Epoch 21/30\n",
      "3/3 [==============================] - 14s 5s/step - loss: 0.1311 - accuracy: 0.9529 - val_loss: 0.9023 - val_accuracy: 0.7600\n",
      "Epoch 22/30\n",
      "3/3 [==============================] - 14s 5s/step - loss: 0.0936 - accuracy: 0.9588 - val_loss: 1.4071 - val_accuracy: 0.7700\n",
      "Epoch 23/30\n",
      "3/3 [==============================] - 14s 5s/step - loss: 0.0791 - accuracy: 0.9529 - val_loss: 1.3777 - val_accuracy: 0.7400\n",
      "Epoch 24/30\n",
      "3/3 [==============================] - 14s 5s/step - loss: 0.0630 - accuracy: 0.9765 - val_loss: 1.3559 - val_accuracy: 0.7700\n",
      "Epoch 25/30\n",
      "3/3 [==============================] - 15s 5s/step - loss: 0.0427 - accuracy: 0.9882 - val_loss: 1.6605 - val_accuracy: 0.7500\n",
      "Epoch 26/30\n",
      "3/3 [==============================] - 16s 6s/step - loss: 0.0391 - accuracy: 0.9882 - val_loss: 1.6968 - val_accuracy: 0.7800\n",
      "Epoch 27/30\n",
      "3/3 [==============================] - 16s 5s/step - loss: 0.0286 - accuracy: 0.9941 - val_loss: 1.7611 - val_accuracy: 0.7550\n",
      "Epoch 28/30\n",
      "3/3 [==============================] - 16s 6s/step - loss: 0.0214 - accuracy: 0.9941 - val_loss: 1.9995 - val_accuracy: 0.7550\n",
      "Epoch 29/30\n",
      "3/3 [==============================] - 17s 6s/step - loss: 0.0614 - accuracy: 0.9765 - val_loss: 3.1001 - val_accuracy: 0.7350\n",
      "Epoch 30/30\n",
      "3/3 [==============================] - 17s 6s/step - loss: 0.3475 - accuracy: 0.9118 - val_loss: 1.9237 - val_accuracy: 0.7350\n"
     ]
    },
    {
     "data": {
      "text/plain": [
       "<Figure size 1200x400 with 2 Axes>"
      ],
      "image/png": "[encoded data removed]"
     },
     "metadata": {},
     "output_type": "display_data"
    }
   ],
   "source": [
    "cwd = os.getcwd()\n",
    "dir_train_rubens = \"dataset/validation/rubens\"\n",
    "dir_train_picasso= \"dataset/validation/picasso\"\n",
    "dir_validation_rubens = \"dataset/test/rubens\"\n",
    "dir_validation_picasso= \"dataset/test/picasso\"\n",
    "file_train_rubens = os.listdir(dir_train_rubens)\n",
    "file_validation_rubens = os.listdir(dir_validation_rubens)\n",
    "file_train_picasso = os.listdir(dir_train_picasso)\n",
    "file_validation_picasso = os.listdir(dir_validation_picasso)\n",
    "\n",
    "train_rubens =[Image.open(os.path.join(dir_train_rubens, file)) for file in file_train_rubens]\n",
    "train_picasso =[Image.open(os.path.join(dir_train_picasso, file)) for file in file_train_picasso]\n",
    "validation_rubens = [Image.open(os.path.join(dir_validation_rubens, file)) for file in file_validation_rubens]\n",
    "validation_picasso = [Image.open(os.path.join(dir_validation_picasso, file)) for file in file_validation_picasso]\n",
    "\n",
    "train_set, train_labels = mix(train_rubens, train_picasso)\n",
    "validation_set, validation_labels = mix(validation_rubens, validation_picasso)\n",
    "\n",
    "train_set = train_set.reshape(len(train_set), 412, 550, 3)\n",
    "validation_set = validation_set.reshape(len(validation_set), 412, 550, 3)\n",
    "\n",
    "callbacks = [keras.callbacks.ModelCheckpoint(filepath=\"convnet_from_scratch.keras\")]\n",
    "\n",
    "history = model.fit(train_set, train_labels, validation_data=(validation_set, validation_labels), epochs=30, batch_size=60, callbacks=callbacks)\n",
    "\n",
    "plt.figure(figsize=(12, 4))\n",
    "\n",
    "plt.subplot(1, 2, 1)\n",
    "plt.plot(history.history['accuracy'])\n",
    "plt.plot(history.history['val_accuracy'])\n",
    "plt.title('Model accuracy')\n",
    "plt.ylabel('Accuracy')\n",
    "plt.xlabel('Epoch')\n",
    "plt.legend(['Train', 'validation'], loc='upper left')\n",
    "\n",
    "# Plot training & validation loss values\n",
    "plt.subplot(1, 2, 2)\n",
    "plt.plot(history.history['loss'])\n",
    "plt.plot(history.history['val_loss'])\n",
    "plt.title('Model loss')\n",
    "plt.ylabel('Loss')\n",
    "plt.xlabel('Epoch')\n",
    "plt.legend(['Train', 'validation'], loc='upper left')\n",
    "\n",
    "plt.show()"
   ],
   "id": "9edf50090838c0cd",
   "execution_count": 12
  },
  {
   "metadata": {
    "ExecuteTime": {
     "end_time": "2024-01-28T14:59:55.784865200Z",
     "start_time": "2024-01-28T14:59:55.784865200Z"
    }
   },
   "cell_type": "code",
   "outputs": [],
   "source": [
    "from sklearn.preprocessing import MinMaxScaler\n",
    "\n",
    "model = keras.models.load_model('convnet_from_scratch.keras')\n",
    "\n",
    "layer_output = []\n",
    "layer_names = []\n",
    "for layer in model.layers:\n",
    "    if isinstance(layer, (layers.Conv2D, layers.MaxPooling2D)):\n",
    "        layer_output.append(layer.output)\n",
    "        layer_names.append(layer.name)\n",
    "        \n",
    "activation_model = keras.Model(inputs=model.input, outputs=layer_output)\n",
    "\n",
    "img_path = Image.open(\"dataset/test/picasso/1468.jpg\")\n",
    "img_path = np.reshape(img_path, (412, 550, 3))\n",
    "img_path = np.expand_dims(img_path, axis=0)\n",
    "\n",
    "activations = activation_model.predict(img_path)\n",
    "print(model.predict(img_path))\n",
    "\n",
    "images_per_row = 4\n",
    "for layer_name, layer_activations in zip(layer_names, activations):\n",
    "    n_features = layer_activations.shape[-1]\n",
    "    height = layer_activations.shape[2]\n",
    "    width = layer_activations.shape[1]\n",
    "    n_cols = n_features // images_per_row\n",
    "    display_grid = np.zeros(((width + 1) * n_cols - 1, images_per_row * (height + 1) - 1))\n",
    "    \n",
    "    for col in range(n_cols):\n",
    "        for row in range(images_per_row):\n",
    "            chanal_index = col * images_per_row + row\n",
    "            channel_img = layer_activations[0, :, :, chanal_index].copy()\n",
    "            \n",
    "            if channel_img.sum() != 0:\n",
    "                channel_img -= channel_img.mean()\n",
    "                channel_img /= channel_img.std()\n",
    "                channel_img *= 64\n",
    "                channel_img += 128\n",
    "\n",
    "            channel_img = np.clip(channel_img, 0, 255).astype(np.uint8)\n",
    "\n",
    "            display_grid[\n",
    "                col * (width + 1) : (col + 1) * width + col, \n",
    "                row * (height + 1) : (row + 1) * height + row\n",
    "            ] = channel_img\n",
    "\n",
    "    scale_width = 1.0 / width\n",
    "    scale_height = 1.0 / height\n",
    "    plt.figure(figsize=(scale_height * display_grid.shape[1],scale_width * display_grid.shape[0]))\n",
    "    plt.title(layer_name)\n",
    "    plt.grid(False)\n",
    "    # plt.imshow(display_grid, aspect='auto', cmap='viridis')\n"
   ],
   "id": "f411f234a6a5a9b4"
  },
  {
   "metadata": {
    "ExecuteTime": {
     "end_time": "2024-01-28T15:39:24.321190200Z",
     "start_time": "2024-01-28T15:39:21.426189600Z"
    }
   },
   "cell_type": "code",
   "outputs": [
    {
     "name": "stdout",
     "output_type": "stream",
     "text": [
      "7/7 [==============================] - 2s 319ms/step - loss: 1.9237 - accuracy: 0.7350\n",
      "Test loss: 1.9236758947372437\n"
     ]
    }
   ],
   "source": [
    "cwd = os.getcwd()\n",
    "dir_test_rubens = \"dataset/test/rubens\"\n",
    "dir_test_picasso= \"dataset/test/picasso\"\n",
    "file_test_rubens = os.listdir(dir_test_rubens)\n",
    "file_test_picasso = os.listdir(dir_test_picasso)\n",
    "\n",
    "test_rubens = [Image.open(os.path.join(dir_test_rubens, file)) for file in file_validation_rubens]\n",
    "test_picasso = [Image.open(os.path.join(dir_test_picasso, file)) for file in file_test_picasso]\n",
    "\n",
    "test_set, test_labels = mix(test_rubens, test_picasso)\n",
    "\n",
    "test_set = test_set.reshape(len(test_set), 412, 550, 3)\n",
    "\n",
    "test_model = keras.models.load_model('convnet_from_scratch.keras')\n",
    "test_loss, test_acc = test_model.evaluate(test_set, test_labels)\n",
    "print('Test loss:', test_loss)"
   ],
   "id": "2fa430b79ce02f51",
   "execution_count": 13
  }
 ],
 "metadata": {
  "kernelspec": {
   "display_name": "Python 3",
   "language": "python",
   "name": "python3"
  },
  "language_info": {
   "codemirror_mode": {
    "name": "ipython",
    "version": 2
   },
   "file_extension": ".py",
   "mimetype": "text/x-python",
   "name": "python",
   "nbconvert_exporter": "python",
   "pygments_lexer": "ipython2",
   "version": "2.7.6"
  }
 },
 "nbformat": 4,
 "nbformat_minor": 5
}
