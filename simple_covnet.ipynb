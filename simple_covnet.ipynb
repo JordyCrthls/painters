{
 "cells": [
  {
   "metadata": {
    "ExecuteTime": {
     "end_time": "2024-02-02T10:51:17.535290500Z",
     "start_time": "2024-02-02T10:51:15.449917300Z"
    }
   },
   "cell_type": "code",
   "outputs": [],
   "source": [
    "from tensorflow import keras\n",
    "from tensorflow.keras import layers\n",
    "import numpy as np\n",
    "import cv2\n",
    "from PIL import Image\n",
    "import os\n",
    "import matplotlib.pyplot as plt"
   ],
   "id": "fffea8e4dc886fb4",
   "execution_count": 1
  },
  {
   "cell_type": "code",
   "id": "initial_id",
   "metadata": {
    "collapsed": true,
    "ExecuteTime": {
     "end_time": "2024-02-02T10:51:17.540359700Z",
     "start_time": "2024-02-02T10:51:17.533787700Z"
    }
   },
   "outputs": [],
   "source": [
    "# 2 painters simple convnet"
   ],
   "execution_count": 2
  },
  {
   "metadata": {
    "ExecuteTime": {
     "end_time": "2024-02-02T10:51:17.553376400Z",
     "start_time": "2024-02-02T10:51:17.538812800Z"
    }
   },
   "cell_type": "code",
   "outputs": [],
   "source": [
    "def create_simpleconvnet():\n",
    "    inputs = keras.Input(shape=(412, 550, 3))\n",
    "    x = layers.Rescaling(1./255)(inputs)\n",
    "    x = layers.Conv2D(filters=32, kernel_size=3, activation='relu')(x)\n",
    "    x = layers.MaxPool2D(pool_size=2)(x)\n",
    "    x = layers.Conv2D(filters=64, kernel_size=3, activation='relu')(x)\n",
    "    x = layers.MaxPool2D(pool_size=2)(x)\n",
    "    x = layers.Conv2D(filters=128, kernel_size=3, activation='relu')(x)\n",
    "    x = layers.MaxPool2D(pool_size=2)(x)\n",
    "    x = layers.Conv2D(filters=256, kernel_size=3, activation='relu')(x)    \n",
    "    x = layers.MaxPool2D(pool_size=2)(x)\n",
    "    x = layers.Conv2D(filters=512, kernel_size=3, activation='relu')(x)\n",
    "    x = layers.MaxPool2D(pool_size=2)(x)\n",
    "    x = layers.Conv2D(filters=512, kernel_size=3, activation='relu')(x)\n",
    "    x = layers.Flatten()(x)\n",
    "    outputs = layers.Dense(2, activation='sigmoid')(x)\n",
    "    model = keras.Model(inputs=inputs, outputs=outputs)\n",
    "    \n",
    "    model.compile(loss=\"categorical_crossentropy\",optimizer='adam', metrics=[\"accuracy\"])\n",
    "\n",
    "    model.summary()\n",
    "    \n",
    "    return model"
   ],
   "id": "a3a9517a8875345",
   "execution_count": 3
  },
  {
   "metadata": {
    "ExecuteTime": {
     "end_time": "2024-02-02T10:51:17.666305500Z",
     "start_time": "2024-02-02T10:51:17.542866100Z"
    }
   },
   "cell_type": "code",
   "outputs": [
    {
     "name": "stdout",
     "output_type": "stream",
     "text": [
      "Model: \"model\"\n",
      "_________________________________________________________________\n",
      " Layer (type)                Output Shape              Param #   \n",
      "=================================================================\n",
      " input_1 (InputLayer)        [(None, 412, 550, 3)]     0         \n",
      "                                                                 \n",
      " rescaling (Rescaling)       (None, 412, 550, 3)       0         \n",
      "                                                                 \n",
      " conv2d (Conv2D)             (None, 410, 548, 32)      896       \n",
      "                                                                 \n",
      " max_pooling2d (MaxPooling2  (None, 205, 274, 32)      0         \n",
      " D)                                                              \n",
      "                                                                 \n",
      " conv2d_1 (Conv2D)           (None, 203, 272, 64)      18496     \n",
      "                                                                 \n",
      " max_pooling2d_1 (MaxPoolin  (None, 101, 136, 64)      0         \n",
      " g2D)                                                            \n",
      "                                                                 \n",
      " conv2d_2 (Conv2D)           (None, 99, 134, 128)      73856     \n",
      "                                                                 \n",
      " max_pooling2d_2 (MaxPoolin  (None, 49, 67, 128)       0         \n",
      " g2D)                                                            \n",
      "                                                                 \n",
      " conv2d_3 (Conv2D)           (None, 47, 65, 256)       295168    \n",
      "                                                                 \n",
      " max_pooling2d_3 (MaxPoolin  (None, 23, 32, 256)       0         \n",
      " g2D)                                                            \n",
      "                                                                 \n",
      " conv2d_4 (Conv2D)           (None, 21, 30, 512)       1180160   \n",
      "                                                                 \n",
      " max_pooling2d_4 (MaxPoolin  (None, 10, 15, 512)       0         \n",
      " g2D)                                                            \n",
      "                                                                 \n",
      " conv2d_5 (Conv2D)           (None, 8, 13, 512)        2359808   \n",
      "                                                                 \n",
      " flatten (Flatten)           (None, 53248)             0         \n",
      "                                                                 \n",
      " dense (Dense)               (None, 2)                 106498    \n",
      "                                                                 \n",
      "=================================================================\n",
      "Total params: 4034882 (15.39 MB)\n",
      "Trainable params: 4034882 (15.39 MB)\n",
      "Non-trainable params: 0 (0.00 Byte)\n",
      "_________________________________________________________________\n"
     ]
    }
   ],
   "source": [
    "model = create_simpleconvnet()"
   ],
   "id": "c61ef4ce41033146",
   "execution_count": 4
  },
  {
   "metadata": {
    "ExecuteTime": {
     "end_time": "2024-02-02T10:51:17.667314Z",
     "start_time": "2024-02-02T10:51:17.665297300Z"
    }
   },
   "cell_type": "code",
   "outputs": [],
   "source": [
    "#mix arrays per n elements\n",
    "\n",
    "def mix(elements1:[], elements2:[], n=5):\n",
    "    objects_set = []\n",
    "    labels_set = []\n",
    "    i = 0\n",
    "    while i < len(elements1) and i < len(elements2):\n",
    "            objects_set.append(np.reshape(elements1[i], (412, 550, 3)))\n",
    "            labels_set.append([1, 0])\n",
    "    \n",
    "            objects_set.append(np.reshape(elements2[i], (412, 550, 3)))\n",
    "            labels_set.append([0, 1])\n",
    "            \n",
    "            i+=1\n",
    "            \n",
    "    return np.array(objects_set), np.array(labels_set)\n",
    "    "
   ],
   "id": "2ab2e31c4109aa47",
   "execution_count": 5
  },
  {
   "metadata": {
    "ExecuteTime": {
     "end_time": "2024-02-02T10:54:47.053966600Z",
     "start_time": "2024-02-02T10:51:17.670312700Z"
    }
   },
   "cell_type": "code",
   "outputs": [
    {
     "name": "stdout",
     "output_type": "stream",
     "text": [
      "Epoch 1/14\n",
      "3/3 [==============================] - ETA: 0s - loss: 0.8703 - accuracy: 0.4588INFO:tensorflow:Assets written to: convnet_from_scratch.tf\\assets\n"
     ]
    },
    {
     "name": "stderr",
     "output_type": "stream",
     "text": [
      "INFO:tensorflow:Assets written to: convnet_from_scratch.tf\\assets\n"
     ]
    },
    {
     "name": "stdout",
     "output_type": "stream",
     "text": [
      "3/3 [==============================] - 17s 6s/step - loss: 0.8703 - accuracy: 0.4588 - val_loss: 0.6940 - val_accuracy: 0.5000\n",
      "Epoch 2/14\n",
      "3/3 [==============================] - ETA: 0s - loss: 0.6901 - accuracy: 0.5235INFO:tensorflow:Assets written to: convnet_from_scratch.tf\\assets\n"
     ]
    },
    {
     "name": "stderr",
     "output_type": "stream",
     "text": [
      "INFO:tensorflow:Assets written to: convnet_from_scratch.tf\\assets\n"
     ]
    },
    {
     "name": "stdout",
     "output_type": "stream",
     "text": [
      "3/3 [==============================] - 15s 5s/step - loss: 0.6901 - accuracy: 0.5235 - val_loss: 0.6848 - val_accuracy: 0.5000\n",
      "Epoch 3/14\n",
      "3/3 [==============================] - 15s 5s/step - loss: 0.6501 - accuracy: 0.5235 - val_loss: 0.7184 - val_accuracy: 0.5000\n",
      "Epoch 4/14\n",
      "3/3 [==============================] - ETA: 0s - loss: 0.6955 - accuracy: 0.5588INFO:tensorflow:Assets written to: convnet_from_scratch.tf\\assets\n"
     ]
    },
    {
     "name": "stderr",
     "output_type": "stream",
     "text": [
      "INFO:tensorflow:Assets written to: convnet_from_scratch.tf\\assets\n"
     ]
    },
    {
     "name": "stdout",
     "output_type": "stream",
     "text": [
      "3/3 [==============================] - 15s 5s/step - loss: 0.6955 - accuracy: 0.5588 - val_loss: 0.6246 - val_accuracy: 0.6950\n",
      "Epoch 5/14\n",
      "3/3 [==============================] - 15s 5s/step - loss: 0.6351 - accuracy: 0.6941 - val_loss: 0.6605 - val_accuracy: 0.5800\n",
      "Epoch 6/14\n",
      "3/3 [==============================] - 15s 5s/step - loss: 0.6525 - accuracy: 0.5941 - val_loss: 0.6868 - val_accuracy: 0.5400\n",
      "Epoch 7/14\n",
      "3/3 [==============================] - ETA: 0s - loss: 0.6564 - accuracy: 0.6235INFO:tensorflow:Assets written to: convnet_from_scratch.tf\\assets\n"
     ]
    },
    {
     "name": "stderr",
     "output_type": "stream",
     "text": [
      "INFO:tensorflow:Assets written to: convnet_from_scratch.tf\\assets\n"
     ]
    },
    {
     "name": "stdout",
     "output_type": "stream",
     "text": [
      "3/3 [==============================] - 15s 5s/step - loss: 0.6564 - accuracy: 0.6235 - val_loss: 0.6121 - val_accuracy: 0.7150\n",
      "Epoch 8/14\n",
      "3/3 [==============================] - 14s 5s/step - loss: 0.5617 - accuracy: 0.7647 - val_loss: 0.7746 - val_accuracy: 0.6850\n",
      "Epoch 9/14\n",
      "3/3 [==============================] - ETA: 0s - loss: 0.5148 - accuracy: 0.7882INFO:tensorflow:Assets written to: convnet_from_scratch.tf\\assets\n"
     ]
    },
    {
     "name": "stderr",
     "output_type": "stream",
     "text": [
      "INFO:tensorflow:Assets written to: convnet_from_scratch.tf\\assets\n"
     ]
    },
    {
     "name": "stdout",
     "output_type": "stream",
     "text": [
      "3/3 [==============================] - 15s 5s/step - loss: 0.5148 - accuracy: 0.7882 - val_loss: 0.5749 - val_accuracy: 0.6700\n",
      "Epoch 10/14\n",
      "3/3 [==============================] - 14s 5s/step - loss: 0.4911 - accuracy: 0.7588 - val_loss: 0.6373 - val_accuracy: 0.7150\n",
      "Epoch 11/14\n",
      "3/3 [==============================] - 14s 5s/step - loss: 0.4474 - accuracy: 0.8176 - val_loss: 0.6253 - val_accuracy: 0.7300\n",
      "Epoch 12/14\n",
      "3/3 [==============================] - ETA: 0s - loss: 0.4580 - accuracy: 0.7471INFO:tensorflow:Assets written to: convnet_from_scratch.tf\\assets\n"
     ]
    },
    {
     "name": "stderr",
     "output_type": "stream",
     "text": [
      "INFO:tensorflow:Assets written to: convnet_from_scratch.tf\\assets\n"
     ]
    },
    {
     "name": "stdout",
     "output_type": "stream",
     "text": [
      "3/3 [==============================] - 15s 5s/step - loss: 0.4580 - accuracy: 0.7471 - val_loss: 0.5348 - val_accuracy: 0.7400\n",
      "Epoch 13/14\n",
      "3/3 [==============================] - 15s 5s/step - loss: 0.4522 - accuracy: 0.8059 - val_loss: 0.5422 - val_accuracy: 0.7100\n",
      "Epoch 14/14\n",
      "3/3 [==============================] - 14s 5s/step - loss: 0.4073 - accuracy: 0.8471 - val_loss: 0.5360 - val_accuracy: 0.7300\n"
     ]
    },
    {
     "data": {
      "text/plain": "<Figure size 1200x400 with 2 Axes>",
      "image/png": "[encoded data removed]"
     },
     "metadata": {},
     "output_type": "display_data"
    }
   ],
   "source": [
    "cwd = os.getcwd()\n",
    "dir_train_rubens = \"dataset/validation/rubens\"\n",
    "dir_train_picasso= \"dataset/validation/picasso\"\n",
    "dir_validation_rubens = \"dataset/test/rubens\"\n",
    "dir_validation_picasso= \"dataset/test/picasso\"\n",
    "file_train_rubens = os.listdir(dir_train_rubens)\n",
    "file_validation_rubens = os.listdir(dir_validation_rubens)\n",
    "file_train_picasso = os.listdir(dir_train_picasso)\n",
    "file_validation_picasso = os.listdir(dir_validation_picasso)\n",
    "\n",
    "train_rubens =[Image.open(os.path.join(dir_train_rubens, file)) for file in file_train_rubens]\n",
    "train_picasso =[Image.open(os.path.join(dir_train_picasso, file)) for file in file_train_picasso]\n",
    "validation_rubens = [Image.open(os.path.join(dir_validation_rubens, file)) for file in file_validation_rubens]\n",
    "validation_picasso = [Image.open(os.path.join(dir_validation_picasso, file)) for file in file_validation_picasso]\n",
    "\n",
    "train_set, train_labels = mix(train_rubens, train_picasso)\n",
    "validation_set, validation_labels = mix(validation_rubens, validation_picasso)\n",
    "\n",
    "train_set = train_set.reshape(len(train_set), 412, 550, 3)\n",
    "validation_set = validation_set.reshape(len(validation_set), 412, 550, 3)\n",
    "\n",
    "callbacks = [keras.callbacks.ModelCheckpoint(filepath=\"convnet_from_scratch.tf\", save_best_only=True, monitor=\"val_loss\")]\n",
    "\n",
    "history = model.fit(train_set, train_labels, validation_data=(validation_set, validation_labels), epochs=14, batch_size=60, callbacks=callbacks)\n",
    "\n",
    "plt.figure(figsize=(12, 4))\n",
    "\n",
    "plt.subplot(1, 2, 1)\n",
    "plt.plot(history.history['accuracy'])\n",
    "plt.plot(history.history['val_accuracy'])\n",
    "plt.title('Model accuracy')\n",
    "plt.ylabel('Accuracy')\n",
    "plt.xlabel('Epoch')\n",
    "plt.legend(['Train', 'validation'], loc='upper left')\n",
    "\n",
    "# Plot training & validation loss values\n",
    "plt.subplot(1, 2, 2)\n",
    "plt.plot(history.history['loss'])\n",
    "plt.plot(history.history['val_loss'])\n",
    "plt.title('Model loss')\n",
    "plt.ylabel('Loss')\n",
    "plt.xlabel('Epoch')\n",
    "plt.legend(['Train', 'validation'], loc='upper left')\n",
    "\n",
    "plt.show()"
   ],
   "id": "9edf50090838c0cd",
   "execution_count": 6
  },
  {
   "metadata": {
    "ExecuteTime": {
     "end_time": "2024-02-02T10:54:48.901798800Z",
     "start_time": "2024-02-02T10:54:47.056480200Z"
    }
   },
   "cell_type": "code",
   "outputs": [
    {
     "name": "stdout",
     "output_type": "stream",
     "text": [
      "1/1 [==============================] - 0s 86ms/step\n",
      "1/1 [==============================] - 0s 66ms/step\n",
      "[[0.02467679 0.97952014]]\n"
     ]
    }
   ],
   "source": [
    "from sklearn.preprocessing import MinMaxScaler\n",
    "\n",
    "model = keras.models.load_model('convnet_from_scratch.keras')\n",
    "\n",
    "layer_output = []\n",
    "layer_names = []\n",
    "for layer in model.layers:\n",
    "    if isinstance(layer, (layers.Conv2D, layers.MaxPooling2D)):\n",
    "        layer_output.append(layer.output)\n",
    "        layer_names.append(layer.name)\n",
    "        \n",
    "activation_model = keras.Model(inputs=model.input, outputs=layer_output)\n",
    "\n",
    "img_path = Image.open(\"dataset/test/picasso/1468.jpg\")\n",
    "img_path = np.reshape(img_path, (412, 550, 3))\n",
    "img_path = np.expand_dims(img_path, axis=0)\n",
    "\n",
    "activations = activation_model.predict(img_path)\n",
    "print(model.predict(img_path))\n",
    "\n",
    "images_per_row = 4\n",
    "for layer_name, layer_activations in zip(layer_names, activations):\n",
    "    n_features = layer_activations.shape[-1]\n",
    "    height = layer_activations.shape[2]\n",
    "    width = layer_activations.shape[1]\n",
    "    n_cols = n_features // images_per_row\n",
    "    display_grid = np.zeros(((width + 1) * n_cols - 1, images_per_row * (height + 1) - 1))\n",
    "    \n",
    "    for col in range(n_cols):\n",
    "        for row in range(images_per_row):\n",
    "            chanal_index = col * images_per_row + row\n",
    "            channel_img = layer_activations[0, :, :, chanal_index].copy()\n",
    "            \n",
    "            if channel_img.sum() != 0:\n",
    "                channel_img -= channel_img.mean()\n",
    "                channel_img /= channel_img.std()\n",
    "                channel_img *= 64\n",
    "                channel_img += 128\n",
    "\n",
    "            channel_img = np.clip(channel_img, 0, 255).astype(np.uint8)\n",
    "\n",
    "            display_grid[\n",
    "                col * (width + 1) : (col + 1) * width + col, \n",
    "                row * (height + 1) : (row + 1) * height + row\n",
    "            ] = channel_img\n",
    "\n",
    "    scale_width = 1.0 / width\n",
    "    scale_height = 1.0 / height\n",
    "    # plt.figure(figsize=(scale_height * display_grid.shape[1],scale_width * display_grid.shape[0]))\n",
    "    # plt.title(layer_name)\n",
    "    # plt.grid(False)\n",
    "    # plt.imshow(display_grid, aspect='auto', cmap='viridis')\n"
   ],
   "id": "f411f234a6a5a9b4",
   "execution_count": 7
  },
  {
   "metadata": {
    "ExecuteTime": {
     "end_time": "2024-02-02T10:54:52.138458700Z",
     "start_time": "2024-02-02T10:54:48.902799400Z"
    }
   },
   "cell_type": "code",
   "outputs": [
    {
     "name": "stdout",
     "output_type": "stream",
     "text": [
      "7/7 [==============================] - 2s 332ms/step - loss: 0.5159 - accuracy: 0.7600\n",
      "Test loss: 0.5158801078796387\n"
     ]
    }
   ],
   "source": [
    "cwd = os.getcwd()\n",
    "dir_test_rubens = \"dataset/test/rubens\"\n",
    "dir_test_picasso= \"dataset/test/picasso\"\n",
    "file_test_rubens = os.listdir(dir_test_rubens)\n",
    "file_test_picasso = os.listdir(dir_test_picasso)\n",
    "\n",
    "test_rubens = [Image.open(os.path.join(dir_test_rubens, file)) for file in file_validation_rubens]\n",
    "test_picasso = [Image.open(os.path.join(dir_test_picasso, file)) for file in file_test_picasso]\n",
    "\n",
    "test_set, test_labels = mix(test_rubens, test_picasso)\n",
    "\n",
    "test_set = test_set.reshape(len(test_set), 412, 550, 3)\n",
    "\n",
    "test_model = keras.models.load_model('convnet_from_scratch.keras')\n",
    "test_loss, test_acc = test_model.evaluate(test_set, test_labels)\n",
    "print('Test loss:', test_loss)"
   ],
   "id": "2fa430b79ce02f51",
   "execution_count": 8
  }
 ],
 "metadata": {
  "kernelspec": {
   "display_name": "Python 3",
   "language": "python",
   "name": "python3"
  },
  "language_info": {
   "codemirror_mode": {
    "name": "ipython",
    "version": 2
   },
   "file_extension": ".py",
   "mimetype": "text/x-python",
   "name": "python",
   "nbconvert_exporter": "python",
   "pygments_lexer": "ipython2",
   "version": "2.7.6"
  }
 },
 "nbformat": 4,
 "nbformat_minor": 5
}
